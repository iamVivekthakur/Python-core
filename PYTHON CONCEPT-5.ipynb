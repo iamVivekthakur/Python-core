{
 "cells": [
  {
   "cell_type": "markdown",
   "id": "b0dac9ab",
   "metadata": {},
   "source": [
    "#HOW TO PUT CONDITION IN PYTHON CODING ?"
   ]
  },
  {
   "cell_type": "code",
   "execution_count": 1,
   "id": "ea1c95f4",
   "metadata": {},
   "outputs": [
    {
     "name": "stdout",
     "output_type": "stream",
     "text": [
      "even\n",
      " Done !\n"
     ]
    }
   ],
   "source": [
    "n= 456\n",
    "if n%2 == 0:\n",
    "   print('even')\n",
    "   print(' Done !')  "
   ]
  },
  {
   "cell_type": "code",
   "execution_count": 2,
   "id": "59cbf7d0",
   "metadata": {},
   "outputs": [
    {
     "name": "stdout",
     "output_type": "stream",
     "text": [
      "53\n",
      "positive\n"
     ]
    }
   ],
   "source": [
    "n= int(input())\n",
    "\n",
    "if n>0:\n",
    "     print(\"positive\")\n",
    "elif n<0:\n",
    "   print('negative')\n",
    "else:\n",
    "   print('zero') \n"
   ]
  },
  {
   "cell_type": "markdown",
   "id": "b983de25",
   "metadata": {},
   "source": [
    "LOOP :\n",
    "\n",
    "The for loop in Python is used to iterate over a sequence (list, tuple, string) or other iterable objects. Iterating over a sequence is called traversal."
   ]
  },
  {
   "cell_type": "code",
   "execution_count": 3,
   "id": "3f8d3bae",
   "metadata": {},
   "outputs": [
    {
     "name": "stdout",
     "output_type": "stream",
     "text": [
      "1 2 3 4 "
     ]
    }
   ],
   "source": [
    "a=(1,2,3,4)\n",
    "for t in a:\n",
    "  print(t,end=\" \")"
   ]
  },
  {
   "cell_type": "code",
   "execution_count": 4,
   "id": "b6250a2a",
   "metadata": {},
   "outputs": [
    {
     "name": "stdout",
     "output_type": "stream",
     "text": [
      "1\n",
      "2\n",
      "3\n"
     ]
    }
   ],
   "source": [
    "L=[1,2,3]\n",
    "for h in L:\n",
    "  print(h)"
   ]
  },
  {
   "cell_type": "code",
   "execution_count": 5,
   "id": "f572821c",
   "metadata": {},
   "outputs": [
    {
     "name": "stdout",
     "output_type": "stream",
     "text": [
      "50 48 46 44 42 40 38 36 34 32 30 28 26 24 22 20 18 16 14 12 10 8 6 4 2 "
     ]
    }
   ],
   "source": [
    "for i in range(50,0,-2):\n",
    "  print(i,end=\" \")"
   ]
  },
  {
   "cell_type": "code",
   "execution_count": 7,
   "id": "9fac3792",
   "metadata": {},
   "outputs": [
    {
     "name": "stdout",
     "output_type": "stream",
     "text": [
      "Enter the value of a ? 5\n",
      "5\n",
      "10\n",
      "15\n",
      "20\n",
      "25\n",
      "30\n",
      "35\n",
      "40\n",
      "45\n",
      "50\n"
     ]
    }
   ],
   "source": [
    "a=int(input(\"Enter the value of a ? \"))\n",
    "for i in range(1,11):\n",
    "    print(i*a)"
   ]
  },
  {
   "cell_type": "markdown",
   "id": "5b46b469",
   "metadata": {},
   "source": [
    "####### how to find whether number is prime or not ? ##############"
   ]
  },
  {
   "cell_type": "code",
   "execution_count": 8,
   "id": "99396149",
   "metadata": {},
   "outputs": [
    {
     "name": "stdout",
     "output_type": "stream",
     "text": [
      "False False False False False False False False False "
     ]
    }
   ],
   "source": [
    "a=11\n",
    "for i in  range(2,a):\n",
    "  print(a%i==0,end=\" \")"
   ]
  },
  {
   "cell_type": "code",
   "execution_count": 9,
   "id": "9ba43e8a",
   "metadata": {},
   "outputs": [
    {
     "name": "stdout",
     "output_type": "stream",
     "text": [
      "Enter any value15\n",
      "True False False False False False False False False False False False False "
     ]
    }
   ],
   "source": [
    "is_prime= True\n",
    "a=int(input('Enter any value'))\n",
    "for i in  range(2,a):\n",
    "  if a%i==0:\n",
    "    is_prime=False\n",
    "  print(is_prime,end=\" \")\n"
   ]
  },
  {
   "cell_type": "code",
   "execution_count": 10,
   "id": "4dd29ccc",
   "metadata": {},
   "outputs": [
    {
     "name": "stdout",
     "output_type": "stream",
     "text": [
      " \n",
      "abc \n",
      "def \n",
      "ghi \n",
      "jkl \n",
      "mno \n",
      "pqr \n",
      "stu \n",
      "vwx"
     ]
    }
   ],
   "source": [
    "text= \" abc def ghi jkl mno pqr stu vwx\"\n",
    "for i in text:\n",
    "  print(i,end=\"\")\n",
    "  if i == \" \":\n",
    "    print()"
   ]
  }
 ],
 "metadata": {
  "kernelspec": {
   "display_name": "Python 3 (ipykernel)",
   "language": "python",
   "name": "python3"
  },
  "language_info": {
   "codemirror_mode": {
    "name": "ipython",
    "version": 3
   },
   "file_extension": ".py",
   "mimetype": "text/x-python",
   "name": "python",
   "nbconvert_exporter": "python",
   "pygments_lexer": "ipython3",
   "version": "3.10.2"
  }
 },
 "nbformat": 4,
 "nbformat_minor": 5
}
