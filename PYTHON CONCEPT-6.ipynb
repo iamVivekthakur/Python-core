{
 "cells": [
  {
   "cell_type": "markdown",
   "id": "83e81a82",
   "metadata": {},
   "source": [
    "# WHILE LOOP"
   ]
  },
  {
   "cell_type": "code",
   "execution_count": 3,
   "id": "88501d26",
   "metadata": {},
   "outputs": [
    {
     "name": "stdout",
     "output_type": "stream",
     "text": [
      "10\n",
      "9\n",
      "8\n",
      "7\n",
      "6\n",
      "5\n",
      "4\n",
      "3\n",
      "2\n",
      "1\n"
     ]
    }
   ],
   "source": [
    "x=10\n",
    "while x:\n",
    "    print(x)\n",
    "    x=x-1"
   ]
  },
  {
   "cell_type": "code",
   "execution_count": 1,
   "id": "ff401228",
   "metadata": {},
   "outputs": [
    {
     "name": "stdout",
     "output_type": "stream",
     "text": [
      "while loop 1\n",
      "while loop 2\n",
      "while loop 3\n",
      "while loop 4\n",
      "while loop 5\n",
      "while loop 6\n",
      "while loop 7\n",
      "while loop 8\n",
      "while loop 9\n",
      "while loop 10\n"
     ]
    }
   ],
   "source": [
    "i=1\n",
    "while i<=10:\n",
    "  print('while loop',i)\n",
    "  i=i+1"
   ]
  },
  {
   "cell_type": "code",
   "execution_count": 2,
   "id": "df73f46a",
   "metadata": {},
   "outputs": [
    {
     "name": "stdout",
     "output_type": "stream",
     "text": [
      " enter any number 5\n",
      "5 10 15 20 25 30 35 40 45 50 "
     ]
    }
   ],
   "source": [
    "i=1\n",
    "n=int(input(' enter any number '))\n",
    "while i<=10:\n",
    "  print(i*n, end=\" \")\n",
    "  i=i+1"
   ]
  },
  {
   "cell_type": "markdown",
   "id": "b7fff63c",
   "metadata": {},
   "source": [
    "FUNCTION CONCEPT:\n",
    "\n",
    "In computer programming, a function is a named section of a code that performs a specific task. This typically involves taking some input, manipulating the input and returning an output."
   ]
  },
  {
   "cell_type": "code",
   "execution_count": 3,
   "id": "7c09b931",
   "metadata": {},
   "outputs": [],
   "source": [
    "def fun(x):\n",
    "    return x**2"
   ]
  },
  {
   "cell_type": "code",
   "execution_count": 4,
   "id": "187ef6ec",
   "metadata": {},
   "outputs": [
    {
     "data": {
      "text/plain": [
       "16"
      ]
     },
     "execution_count": 4,
     "metadata": {},
     "output_type": "execute_result"
    }
   ],
   "source": [
    "fun(4)"
   ]
  },
  {
   "cell_type": "code",
   "execution_count": 7,
   "id": "e9f2f4dc",
   "metadata": {},
   "outputs": [],
   "source": [
    "def calc(a,b):\n",
    "    sum=a+b\n",
    "    mul=a*b\n",
    "    div=a/b\n",
    "    sub=a-b\n",
    "    return sum,mul,sub,div"
   ]
  },
  {
   "cell_type": "code",
   "execution_count": 8,
   "id": "3a467b4d",
   "metadata": {},
   "outputs": [
    {
     "data": {
      "text/plain": [
       "(15, 50, 5, 2.0)"
      ]
     },
     "execution_count": 8,
     "metadata": {},
     "output_type": "execute_result"
    }
   ],
   "source": [
    "calc(10,5)"
   ]
  },
  {
   "cell_type": "markdown",
   "id": "06f3410d",
   "metadata": {},
   "source": [
    "Q). Write a program take two variables in it, if user passes any of arithmatic alphabet supose user pases 'M' then the two variables gets multiply with one another?"
   ]
  },
  {
   "cell_type": "code",
   "execution_count": 9,
   "id": "8699cf6f",
   "metadata": {},
   "outputs": [
    {
     "name": "stdout",
     "output_type": "stream",
     "text": [
      " enter alpha m\n"
     ]
    }
   ],
   "source": [
    "t=input(\" enter alpha \")\n",
    "def calc(a,b):\n",
    "  if t==\"a\":\n",
    "    add=a+b\n",
    "    return add\n",
    "  elif t==\"s\":\n",
    "    sub=a-b\n",
    "    return sub\n",
    "  elif t==\"d\":\n",
    "    div=a/b\n",
    "    return div\n",
    "  elif t==\"m\":\n",
    "    mul=a*b\n",
    "\n",
    "    return mul"
   ]
  },
  {
   "cell_type": "code",
   "execution_count": 10,
   "id": "b88165b7",
   "metadata": {},
   "outputs": [
    {
     "data": {
      "text/plain": [
       "50"
      ]
     },
     "execution_count": 10,
     "metadata": {},
     "output_type": "execute_result"
    }
   ],
   "source": [
    "calc(10,5)"
   ]
  }
 ],
 "metadata": {
  "kernelspec": {
   "display_name": "Python 3 (ipykernel)",
   "language": "python",
   "name": "python3"
  },
  "language_info": {
   "codemirror_mode": {
    "name": "ipython",
    "version": 3
   },
   "file_extension": ".py",
   "mimetype": "text/x-python",
   "name": "python",
   "nbconvert_exporter": "python",
   "pygments_lexer": "ipython3",
   "version": "3.10.2"
  }
 },
 "nbformat": 4,
 "nbformat_minor": 5
}
