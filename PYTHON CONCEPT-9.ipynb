{
 "cells": [
  {
   "cell_type": "code",
   "execution_count": 2,
   "id": "43ec3738",
   "metadata": {},
   "outputs": [
    {
     "name": "stdout",
     "output_type": "stream",
     "text": [
      "append\n",
      "clear\n",
      "copy\n",
      "count\n",
      "extend\n",
      "index\n",
      "insert\n",
      "pop\n",
      "remove\n",
      "reverse\n",
      "sort\n"
     ]
    }
   ],
   "source": [
    "for data in dir(list):\n",
    "    if \"_\" not in data:\n",
    "        print(data)"
   ]
  },
  {
   "cell_type": "markdown",
   "id": "2ff2a5cf",
   "metadata": {},
   "source": [
    "COPY COMMAND :\n",
    "\n",
    "This command in a list is very important command which will help you to copy the list and work on it without affecting the original one.\n"
   ]
  },
  {
   "cell_type": "code",
   "execution_count": 3,
   "id": "b2ce9980",
   "metadata": {},
   "outputs": [],
   "source": [
    "ls=[10,20,30,40,50,60,70]\n",
    "ls1=ls.copy()"
   ]
  },
  {
   "cell_type": "code",
   "execution_count": 4,
   "id": "8a292a3e",
   "metadata": {},
   "outputs": [
    {
     "data": {
      "text/plain": [
       "(3057463678144, 3057463676608)"
      ]
     },
     "execution_count": 4,
     "metadata": {},
     "output_type": "execute_result"
    }
   ],
   "source": [
    "id(ls), id(ls1)"
   ]
  },
  {
   "cell_type": "code",
   "execution_count": 5,
   "id": "e78e1ab2",
   "metadata": {},
   "outputs": [],
   "source": [
    "ls1[-1]=80"
   ]
  },
  {
   "cell_type": "code",
   "execution_count": 6,
   "id": "29b50a9d",
   "metadata": {},
   "outputs": [
    {
     "data": {
      "text/plain": [
       "([10, 20, 30, 40, 50, 60, 70], [10, 20, 30, 40, 50, 60, 80])"
      ]
     },
     "execution_count": 6,
     "metadata": {},
     "output_type": "execute_result"
    }
   ],
   "source": [
    "ls,ls1"
   ]
  },
  {
   "cell_type": "markdown",
   "id": "c42bc231",
   "metadata": {},
   "source": [
    "Concept of enumerate() :\n",
    "\n",
    "Enumerate() method adds a counter to an iterable and returns it in a form of enumerating object. This enumerated object can then be used directly for loops or converted into a list of tuples using the list() method."
   ]
  },
  {
   "cell_type": "code",
   "execution_count": 7,
   "id": "6275228a",
   "metadata": {},
   "outputs": [],
   "source": [
    "ls=[15,16,17,18]"
   ]
  },
  {
   "cell_type": "code",
   "execution_count": 8,
   "id": "80de58f1",
   "metadata": {
    "scrolled": true
   },
   "outputs": [
    {
     "name": "stdout",
     "output_type": "stream",
     "text": [
      "(0, 15)\n",
      "(1, 16)\n",
      "(2, 17)\n",
      "(3, 18)\n"
     ]
    }
   ],
   "source": [
    "for d in enumerate(ls):\n",
    "    print(d)"
   ]
  },
  {
   "cell_type": "code",
   "execution_count": 12,
   "id": "80cf885a",
   "metadata": {},
   "outputs": [
    {
     "name": "stdout",
     "output_type": "stream",
     "text": [
      "0 15\n",
      "1 16\n",
      "2 17\n",
      "3 18\n"
     ]
    }
   ],
   "source": [
    "for i,v in enumerate(ls):\n",
    "    print(i,v)"
   ]
  },
  {
   "cell_type": "code",
   "execution_count": 13,
   "id": "6e159995",
   "metadata": {},
   "outputs": [],
   "source": [
    "a=[10,20,30,40,50]\n",
    "value=v"
   ]
  },
  {
   "cell_type": "code",
   "execution_count": 14,
   "id": "fc43ea0b",
   "metadata": {},
   "outputs": [
    {
     "name": "stdout",
     "output_type": "stream",
     "text": [
      "0 10\n",
      "1 20\n",
      "2 30\n",
      "3 40\n",
      "4 50\n"
     ]
    }
   ],
   "source": [
    "for i,v in enumerate(a):\n",
    "    print(i,v)\n",
    "    if v==value:\n",
    "        del[i]"
   ]
  },
  {
   "cell_type": "code",
   "execution_count": 16,
   "id": "2c6650d8",
   "metadata": {},
   "outputs": [
    {
     "name": "stdout",
     "output_type": "stream",
     "text": [
      "0 1\n",
      "1 2\n",
      "2 3\n",
      "3 4\n",
      "4 5\n",
      "5 9\n",
      "6 4\n",
      "7 4\n",
      "8 7\n",
      "9 8\n",
      "10 3\n"
     ]
    },
    {
     "data": {
      "text/plain": [
       "[1, 2, 3, 4, 5, 9, 6, 2, 7, 8, 3]"
      ]
     },
     "execution_count": 16,
     "metadata": {},
     "output_type": "execute_result"
    }
   ],
   "source": [
    "ls=[1,2,3,4,4,5,9,4,6,4,2,7,8,3]\n",
    "a=4\n",
    "for i,v in enumerate(ls):\n",
    "    print(i,v)\n",
    "    if v==a:\n",
    "        del ls[i]\n",
    "        \n",
    "ls"
   ]
  }
 ],
 "metadata": {
  "kernelspec": {
   "display_name": "Python 3 (ipykernel)",
   "language": "python",
   "name": "python3"
  },
  "language_info": {
   "codemirror_mode": {
    "name": "ipython",
    "version": 3
   },
   "file_extension": ".py",
   "mimetype": "text/x-python",
   "name": "python",
   "nbconvert_exporter": "python",
   "pygments_lexer": "ipython3",
   "version": "3.10.2"
  }
 },
 "nbformat": 4,
 "nbformat_minor": 5
}
