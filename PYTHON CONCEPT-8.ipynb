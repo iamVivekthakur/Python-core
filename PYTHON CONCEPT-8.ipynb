{
 "cells": [
  {
   "cell_type": "markdown",
   "id": "8068a590",
   "metadata": {},
   "source": [
    "MAPPING OR MAP: \n",
    "\n",
    "Map/Mapping in Python is a function that works as an iterator to return a result after applying a function to every item of an iterable (tuple, lists, etc.)."
   ]
  },
  {
   "cell_type": "code",
   "execution_count": 1,
   "id": "317340d9",
   "metadata": {},
   "outputs": [],
   "source": [
    "def double(n):\n",
    "  return n*2"
   ]
  },
  {
   "cell_type": "code",
   "execution_count": 2,
   "id": "930e8fb5",
   "metadata": {},
   "outputs": [
    {
     "data": {
      "text/plain": [
       "(44, 104, 130, 200, 100)"
      ]
     },
     "execution_count": 2,
     "metadata": {},
     "output_type": "execute_result"
    }
   ],
   "source": [
    "x= map(double,[22,52,65,100,50])\n",
    "tuple(x)"
   ]
  },
  {
   "cell_type": "markdown",
   "id": "aaa7e087",
   "metadata": {},
   "source": [
    "There are some commands in list which will help you to perform certain functions."
   ]
  },
  {
   "cell_type": "code",
   "execution_count": 3,
   "id": "8208c2e7",
   "metadata": {},
   "outputs": [
    {
     "name": "stdout",
     "output_type": "stream",
     "text": [
      "append\n",
      "clear\n",
      "copy\n",
      "count\n",
      "extend\n",
      "index\n",
      "insert\n",
      "pop\n",
      "remove\n",
      "reverse\n",
      "sort\n"
     ]
    }
   ],
   "source": [
    "for data in dir(list):\n",
    "    if \"_\" not in data:\n",
    "        print(data)"
   ]
  },
  {
   "cell_type": "code",
   "execution_count": 5,
   "id": "1ce92d60",
   "metadata": {},
   "outputs": [
    {
     "name": "stdout",
     "output_type": "stream",
     "text": [
      "<class 'list'>\n"
     ]
    }
   ],
   "source": [
    "v=[]\n",
    "print(type(v))"
   ]
  },
  {
   "cell_type": "markdown",
   "id": "d5f5a2b6",
   "metadata": {},
   "source": [
    "Append : this command will help you to add or append items in a list."
   ]
  },
  {
   "cell_type": "code",
   "execution_count": 6,
   "id": "4cc3e8a7",
   "metadata": {},
   "outputs": [],
   "source": [
    "v.append(10)"
   ]
  },
  {
   "cell_type": "code",
   "execution_count": 7,
   "id": "fa484ad3",
   "metadata": {},
   "outputs": [],
   "source": [
    "v.append(11)"
   ]
  },
  {
   "cell_type": "code",
   "execution_count": 8,
   "id": "1da88943",
   "metadata": {},
   "outputs": [],
   "source": [
    "v.append(12)"
   ]
  },
  {
   "cell_type": "code",
   "execution_count": 9,
   "id": "b8b1d18a",
   "metadata": {},
   "outputs": [],
   "source": [
    "v.append(13)"
   ]
  },
  {
   "cell_type": "code",
   "execution_count": 10,
   "id": "1234a676",
   "metadata": {},
   "outputs": [
    {
     "data": {
      "text/plain": [
       "[10, 11, 12, 13]"
      ]
     },
     "execution_count": 10,
     "metadata": {},
     "output_type": "execute_result"
    }
   ],
   "source": [
    "v"
   ]
  },
  {
   "cell_type": "markdown",
   "id": "d0054772",
   "metadata": {},
   "source": [
    "Extends command: this command will help you to extend the items in the list with the another list."
   ]
  },
  {
   "cell_type": "code",
   "execution_count": 17,
   "id": "073318e1",
   "metadata": {},
   "outputs": [
    {
     "data": {
      "text/plain": [
       "[18, 17, 16, 15, 14, 13, 12, 11, 10, 14, 15, 16, 17, 18]"
      ]
     },
     "execution_count": 17,
     "metadata": {},
     "output_type": "execute_result"
    }
   ],
   "source": [
    "a=[14,15,16,17,18]\n",
    "v.extend(a)\n",
    "v"
   ]
  },
  {
   "cell_type": "markdown",
   "id": "40fd752b",
   "metadata": {},
   "source": [
    "Reverse command: This command will help you to reverse the list."
   ]
  },
  {
   "cell_type": "code",
   "execution_count": 16,
   "id": "5a89dc4d",
   "metadata": {},
   "outputs": [
    {
     "data": {
      "text/plain": [
       "[18, 17, 16, 15, 14, 13, 12, 11, 10]"
      ]
     },
     "execution_count": 16,
     "metadata": {},
     "output_type": "execute_result"
    }
   ],
   "source": [
    "v.reverse()\n",
    "v"
   ]
  },
  {
   "cell_type": "markdown",
   "id": "25968046",
   "metadata": {},
   "source": [
    "Index command : This command is used to check the indexing or index of a particular number in the given list."
   ]
  },
  {
   "cell_type": "code",
   "execution_count": 18,
   "id": "f5c6f667",
   "metadata": {},
   "outputs": [],
   "source": [
    "v=[10,11,12,13,14,15,16,17,18]\n"
   ]
  },
  {
   "cell_type": "code",
   "execution_count": 19,
   "id": "2ea59c83",
   "metadata": {},
   "outputs": [
    {
     "data": {
      "text/plain": [
       "5"
      ]
     },
     "execution_count": 19,
     "metadata": {},
     "output_type": "execute_result"
    }
   ],
   "source": [
    "v.index(15)"
   ]
  },
  {
   "cell_type": "markdown",
   "id": "fb42acc9",
   "metadata": {},
   "source": [
    "Sorting command: This command is used to sort the randomly arranged list in proper manner."
   ]
  },
  {
   "cell_type": "code",
   "execution_count": 20,
   "id": "eeeac704",
   "metadata": {},
   "outputs": [],
   "source": [
    "ls=[15,13,52,40,17,89,65,4,2,35,20]"
   ]
  },
  {
   "cell_type": "code",
   "execution_count": 22,
   "id": "cccec3df",
   "metadata": {},
   "outputs": [
    {
     "data": {
      "text/plain": [
       "[2, 4, 13, 15, 17, 20, 35, 40, 52, 65, 89]"
      ]
     },
     "execution_count": 22,
     "metadata": {},
     "output_type": "execute_result"
    }
   ],
   "source": [
    "sorted(ls)"
   ]
  },
  {
   "cell_type": "markdown",
   "id": "e7b21a51",
   "metadata": {},
   "source": [
    "POP command: This command is used when you want to delete certain item in the list but here you have to mention index number."
   ]
  },
  {
   "cell_type": "code",
   "execution_count": 23,
   "id": "bf2566f8",
   "metadata": {},
   "outputs": [
    {
     "data": {
      "text/plain": [
       "[15, 13, 52, 40, 17, 89, 65, 4, 2, 35, 20]"
      ]
     },
     "execution_count": 23,
     "metadata": {},
     "output_type": "execute_result"
    }
   ],
   "source": [
    "ls"
   ]
  },
  {
   "cell_type": "code",
   "execution_count": 24,
   "id": "89203024",
   "metadata": {},
   "outputs": [
    {
     "data": {
      "text/plain": [
       "3"
      ]
     },
     "execution_count": 24,
     "metadata": {},
     "output_type": "execute_result"
    }
   ],
   "source": [
    "ls.index(40)"
   ]
  },
  {
   "cell_type": "code",
   "execution_count": 25,
   "id": "cfc6f21c",
   "metadata": {},
   "outputs": [
    {
     "data": {
      "text/plain": [
       "40"
      ]
     },
     "execution_count": 25,
     "metadata": {},
     "output_type": "execute_result"
    }
   ],
   "source": [
    "ls.pop(3)"
   ]
  },
  {
   "cell_type": "code",
   "execution_count": 26,
   "id": "96e610e1",
   "metadata": {},
   "outputs": [
    {
     "data": {
      "text/plain": [
       "[15, 13, 52, 17, 89, 65, 4, 2, 35, 20]"
      ]
     },
     "execution_count": 26,
     "metadata": {},
     "output_type": "execute_result"
    }
   ],
   "source": [
    "ls"
   ]
  }
 ],
 "metadata": {
  "kernelspec": {
   "display_name": "Python 3 (ipykernel)",
   "language": "python",
   "name": "python3"
  },
  "language_info": {
   "codemirror_mode": {
    "name": "ipython",
    "version": 3
   },
   "file_extension": ".py",
   "mimetype": "text/x-python",
   "name": "python",
   "nbconvert_exporter": "python",
   "pygments_lexer": "ipython3",
   "version": "3.10.2"
  }
 },
 "nbformat": 4,
 "nbformat_minor": 5
}
