{
 "cells": [
  {
   "cell_type": "markdown",
   "id": "46b38201",
   "metadata": {},
   "source": [
    "# FILE HANDLING\n",
    "\n"
   ]
  },
  {
   "cell_type": "markdown",
   "id": "5b81e353",
   "metadata": {},
   "source": [
    "File handling is an important part of any web application. Python has several functions for creatin, reading, updating and deleting files.\n",
    "\n",
    "The key function for working with files in Python is thte open() function. The open() function takes two parameter: filename, and mode.\n",
    "\n",
    "There are four different method (modes) for opening a file:\n",
    "\n",
    "\"r\" : Read- Default value. Open a file for reading, error if the file does not exist.\n",
    "\n",
    "\"a\" : Append- Open a file for appending. creates the file if it does not exist.\n",
    "\n",
    "\"w\" : Write- Open a file for writing, creates the file if it does not exist.\n",
    "\n",
    "\"x\" : Create- Creates the specified file, return an error if the file exist."
   ]
  },
  {
   "cell_type": "code",
   "execution_count": 1,
   "id": "c0d8a215",
   "metadata": {},
   "outputs": [],
   "source": [
    "f=open(\"Rama.py\",\"w\")"
   ]
  },
  {
   "cell_type": "code",
   "execution_count": 2,
   "id": "ed6230a8",
   "metadata": {},
   "outputs": [],
   "source": [
    "f.write(\"Dear, Rama \\n\")\n",
    "f.write(\"We are pleased to inform you that you have been selected in Delhi Police. \\n\")\n",
    "f.write(\"You have to report on 8th oct 2022 at Delhi Police Training Center sharp 9 A.M. \\n\")\n",
    "f.write(\"Also do not forget to bring all your concerrned documents for verification. \\n\")\n",
    "f.write(\"Thank you!!!\")\n",
    "f.close()\n"
   ]
  },
  {
   "cell_type": "code",
   "execution_count": 3,
   "id": "e96a30c0",
   "metadata": {},
   "outputs": [
    {
     "name": "stdout",
     "output_type": "stream",
     "text": [
      "Dear, Rama \n",
      "We are pleased to inform you that you have been selected in Delhi Police. \n",
      "You have to report on 8th oct 2022 at Delhi Police Training Center sharp 9 A.M. \n",
      "Also do not forget to bring all your concerrned documents for verification. \n",
      "Thank you!!!\n"
     ]
    }
   ],
   "source": [
    "f=open(\"Rama.py\",\"r\")\n",
    "d=f.read()\n",
    "print(d)\n",
    "f.close()"
   ]
  },
  {
   "cell_type": "code",
   "execution_count": 5,
   "id": "db9b5db5",
   "metadata": {},
   "outputs": [
    {
     "name": "stdout",
     "output_type": "stream",
     "text": [
      "1\tKUKREJA\t35\tKARATE\t27-03-1996\t1000\tM\n",
      "\n",
      "2\tRAVINA \t34\tKARATE\t20-Jan\t1200\tF\n",
      "\n",
      "3\tKARAN\t34\tSQUASH\t19-02-1998\t2000\tM\n",
      "\n",
      "4\tTARUN \t33\tBASKET BALL\t20-02-1998\t1500\tM\n",
      "\n",
      "5\tZUBIN\t36\tSWIMMING\t01-01-1998\t750\tM\n",
      "\n",
      "6\tKETAKI\t36\tSWIMMING\t22-02-1998\t800\tF\n",
      "\n",
      "7\tANKITA \t39\tSQUASH\t23-02-1998\t200\tF\n",
      "\n",
      "8\tZAREEN\t37\tKARATE\t22-02-1998\t100\tF\n",
      "\n",
      "9\tKUSH\t41\tSWIMMING\t13-02-1998\t900\tM\n",
      "\n",
      "10\tSHAILYA\t37\tBASKET BALL\t26-02-1998\t1700\tM\n",
      "\n"
     ]
    }
   ],
   "source": [
    "file=open(\"C:/ProgramData/MySQL/MySQL Server 8.0/Uploads/abcd.csv\",\"r\")\n",
    "for i in file:\n",
    "    print(i)"
   ]
  },
  {
   "cell_type": "code",
   "execution_count": 6,
   "id": "20f44dee",
   "metadata": {},
   "outputs": [
    {
     "name": "stdout",
     "output_type": "stream",
     "text": [
      "1\tKUKREJA\t35\tKARATE\t27-03-1996\t1000\tM\n",
      "2\tRAVINA \t34\tKARATE\t20-Jan\t1200\tF\n",
      "3\tKARAN\t34\tSQUASH\t19-02-1998\t2000\tM\n",
      "4\tTARUN \t33\tBASKET BALL\t20-02-1998\t1500\tM\n",
      "5\tZUBIN\t36\tSWIMMING\t01-01-1998\t750\tM\n",
      "6\tKETAKI\t36\tSWIMMING\t22-02-1998\t800\tF\n",
      "7\tANKITA \t39\tSQUASH\t23-02-1998\t200\tF\n",
      "8\tZAREEN\t37\tKARATE\t22-02-1998\t100\tF\n",
      "9\tKUSH\t41\tSWIMMING\t13-02-1998\t900\tM\n",
      "10\tSHAILYA\t37\tBASKET BALL\t26-02-1998\t1700\tM\n",
      "\n"
     ]
    }
   ],
   "source": [
    "file=open(\"C:/ProgramData/MySQL/MySQL Server 8.0/Uploads/abcd.csv\",\"r\")\n",
    "print(file.read())"
   ]
  }
 ],
 "metadata": {
  "kernelspec": {
   "display_name": "Python 3 (ipykernel)",
   "language": "python",
   "name": "python3"
  },
  "language_info": {
   "codemirror_mode": {
    "name": "ipython",
    "version": 3
   },
   "file_extension": ".py",
   "mimetype": "text/x-python",
   "name": "python",
   "nbconvert_exporter": "python",
   "pygments_lexer": "ipython3",
   "version": "3.10.2"
  }
 },
 "nbformat": 4,
 "nbformat_minor": 5
}
