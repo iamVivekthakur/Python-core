{
 "cells": [
  {
   "cell_type": "markdown",
   "id": "fbc63a62",
   "metadata": {},
   "source": [
    "Operators in Python: \n",
    "\n",
    "Operators are special symbols in Python that carry out arithmetic or logical computation. The value that the operator operates on is called the operand"
   ]
  },
  {
   "cell_type": "markdown",
   "id": "17d3fc08",
   "metadata": {},
   "source": [
    "Arthmatic operator :"
   ]
  },
  {
   "cell_type": "code",
   "execution_count": 1,
   "id": "dc68927a",
   "metadata": {},
   "outputs": [
    {
     "data": {
      "text/plain": [
       "2"
      ]
     },
     "execution_count": 1,
     "metadata": {},
     "output_type": "execute_result"
    }
   ],
   "source": [
    "x=12%10     # % IS CALLED AS MODULOUS WHICH HELPS YOU TO GIVE REMINDER\n",
    "x"
   ]
  },
  {
   "cell_type": "code",
   "execution_count": 2,
   "id": "2ce1d83d",
   "metadata": {},
   "outputs": [
    {
     "data": {
      "text/plain": [
       "6.0"
      ]
     },
     "execution_count": 2,
     "metadata": {},
     "output_type": "execute_result"
    }
   ],
   "source": [
    "x=12/2     # / IS CALLED DIVISOR WHICH HELPS YOU TO GENERATE THE EXACT VALUE AFTER DIVIDING.\n",
    "x"
   ]
  },
  {
   "cell_type": "markdown",
   "id": "24cb841f",
   "metadata": {},
   "source": [
    "MEMBERSHIP OPERATOR :"
   ]
  },
  {
   "cell_type": "code",
   "execution_count": 3,
   "id": "d0c1f7c1",
   "metadata": {},
   "outputs": [],
   "source": [
    "f=['vivek','mahi','python','abhishek']"
   ]
  },
  {
   "cell_type": "code",
   "execution_count": 4,
   "id": "8bd86e59",
   "metadata": {},
   "outputs": [
    {
     "data": {
      "text/plain": [
       "True"
      ]
     },
     "execution_count": 4,
     "metadata": {},
     "output_type": "execute_result"
    }
   ],
   "source": [
    "'python' in f"
   ]
  },
  {
   "cell_type": "code",
   "execution_count": 5,
   "id": "4a458bb6",
   "metadata": {},
   "outputs": [
    {
     "data": {
      "text/plain": [
       "False"
      ]
     },
     "execution_count": 5,
     "metadata": {},
     "output_type": "execute_result"
    }
   ],
   "source": [
    "'alok'in f"
   ]
  },
  {
   "cell_type": "markdown",
   "id": "7dc1d2b9",
   "metadata": {},
   "source": [
    "LOGICAL OPERATORS :"
   ]
  },
  {
   "cell_type": "code",
   "execution_count": 6,
   "id": "5dda62c1",
   "metadata": {},
   "outputs": [
    {
     "data": {
      "text/plain": [
       "True"
      ]
     },
     "execution_count": 6,
     "metadata": {},
     "output_type": "execute_result"
    }
   ],
   "source": [
    "age= 25\n",
    "c1 = age>=18\n",
    "c2 = age<=26\n",
    "\n",
    "c1 and c2"
   ]
  },
  {
   "cell_type": "code",
   "execution_count": 7,
   "id": "9644d2a5",
   "metadata": {},
   "outputs": [
    {
     "name": "stdout",
     "output_type": "stream",
     "text": [
      "Enter any number ? 5\n",
      "number: True\n"
     ]
    }
   ],
   "source": [
    "c = input('Enter any number ? ')\n",
    "print ('number:', c>='0' and c<='9')"
   ]
  },
  {
   "cell_type": "code",
   "execution_count": 8,
   "id": "9879517a",
   "metadata": {},
   "outputs": [
    {
     "name": "stdout",
     "output_type": "stream",
     "text": [
      "Enter any character ? Vivek Thakur\n",
      "Alpha: True\n"
     ]
    }
   ],
   "source": [
    "c = input('Enter any character ? ')\n",
    "\n",
    "print('Alpha:', (c>='a' and c<='z') or (c>='A' and c<='Z'))"
   ]
  },
  {
   "cell_type": "markdown",
   "id": "4e390a05",
   "metadata": {},
   "source": [
    "SEPERATOR: \n",
    "\n",
    "The separator between the arguments to print() function in Python is space by default (softspace feature) , which can be modified and can be made to any character, integer or string as per our choice."
   ]
  },
  {
   "cell_type": "code",
   "execution_count": 9,
   "id": "3faa2210",
   "metadata": {},
   "outputs": [
    {
     "name": "stdout",
     "output_type": "stream",
     "text": [
      "10 20 100 end\n"
     ]
    }
   ],
   "source": [
    "a=10\n",
    "b=20\n",
    "print (a,b,100,'end')"
   ]
  },
  {
   "cell_type": "code",
   "execution_count": 10,
   "id": "9c64e72a",
   "metadata": {},
   "outputs": [
    {
     "name": "stdout",
     "output_type": "stream",
     "text": [
      "10 20 100 end\n"
     ]
    }
   ],
   "source": [
    "a=10\n",
    "b=20\n",
    "print (a,b,100,'end', sep= ' ')"
   ]
  },
  {
   "cell_type": "code",
   "execution_count": 11,
   "id": "af3f03ad",
   "metadata": {},
   "outputs": [
    {
     "name": "stdout",
     "output_type": "stream",
     "text": [
      "10 20 30\n",
      "1 2 3\n"
     ]
    }
   ],
   "source": [
    "a=10\n",
    "b=20\n",
    "\n",
    "print(10,20,30)\n",
    "print(1,2,3)"
   ]
  }
 ],
 "metadata": {
  "kernelspec": {
   "display_name": "Python 3 (ipykernel)",
   "language": "python",
   "name": "python3"
  },
  "language_info": {
   "codemirror_mode": {
    "name": "ipython",
    "version": 3
   },
   "file_extension": ".py",
   "mimetype": "text/x-python",
   "name": "python",
   "nbconvert_exporter": "python",
   "pygments_lexer": "ipython3",
   "version": "3.10.2"
  }
 },
 "nbformat": 4,
 "nbformat_minor": 5
}
