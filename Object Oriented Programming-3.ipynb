{
 "cells": [
  {
   "cell_type": "markdown",
   "id": "c96f0bc8",
   "metadata": {},
   "source": [
    "# INHERITANCE"
   ]
  },
  {
   "cell_type": "markdown",
   "id": "f796db54",
   "metadata": {},
   "source": [
    "CODE RESPONSIBILITY: we do not have to write the same code again and again, we can just inherit the properties we need in a child class. It represents a real world relationship btw parent class and child class."
   ]
  },
  {
   "cell_type": "code",
   "execution_count": 3,
   "id": "7a189f17",
   "metadata": {},
   "outputs": [
    {
     "name": "stdout",
     "output_type": "stream",
     "text": [
      "Good morning Vivek Thakur!!!\n",
      "Today's thought :  Honesty is the best policy.\n"
     ]
    }
   ],
   "source": [
    "class Parent:\n",
    "    def Greet(self):\n",
    "        print(\"Good morning Vivek Thakur!!!\")\n",
    "        \n",
    "class child(Parent):\n",
    "    def Salogan(self):\n",
    "        print(\"\"\"Today's thought : \"\"\",\"Honesty is the best policy.\")\n",
    "    \n",
    "ob=child()\n",
    "ob.Greet()\n",
    "ob.Salogan()"
   ]
  },
  {
   "cell_type": "markdown",
   "id": "55a9184f",
   "metadata": {},
   "source": [
    "or"
   ]
  },
  {
   "cell_type": "code",
   "execution_count": 4,
   "id": "339bef84",
   "metadata": {},
   "outputs": [
    {
     "name": "stdout",
     "output_type": "stream",
     "text": [
      "This is awesome\n",
      "honda\n",
      "2000\n",
      "2029\n",
      "Red\n"
     ]
    }
   ],
   "source": [
    "class car:\n",
    "    def __init__(self,name,model,year):\n",
    "        self.name=name\n",
    "        self.model=model\n",
    "        self.year=year\n",
    "    def Q(self):\n",
    "        return 'This is awesome'\n",
    "    \n",
    "class electric(car):\n",
    "    def __init__(self,name,model,year,color):\n",
    "        super(). __init__(name,model,year)\n",
    "        self.color=color\n",
    "        \n",
    "        \n",
    "z=electric('honda',2000,2029,'Red')\n",
    "print(z.Q())\n",
    "print(z.name)\n",
    "print(z.model)\n",
    "print(z.year)\n",
    "print(z.color)"
   ]
  },
  {
   "cell_type": "code",
   "execution_count": 6,
   "id": "61384d2f",
   "metadata": {},
   "outputs": [
    {
     "name": "stdout",
     "output_type": "stream",
     "text": [
      "The exponential of a and b :  25\n",
      "The multiple of p and q :  200\n"
     ]
    }
   ],
   "source": [
    "class x:\n",
    "    def expo(self,a,b):\n",
    "        self.a=a\n",
    "        self.b=b\n",
    "        self.exp=a**b\n",
    "        \n",
    "class y(x):\n",
    "    def __init__(self,a,b,p,q):\n",
    "        super().expo(a,b)\n",
    "        self.p=p\n",
    "        self.q=q\n",
    "        self.mul=p*q\n",
    "        \n",
    "ob=y(5,2,10,20)\n",
    "print(\"The exponential of a and b : \", ob.exp)\n",
    "print(\"The multiple of p and q : \", ob.mul)"
   ]
  },
  {
   "cell_type": "code",
   "execution_count": 8,
   "id": "0ab6bc47",
   "metadata": {},
   "outputs": [
    {
     "name": "stdout",
     "output_type": "stream",
     "text": [
      "Enter value of a? 5\n",
      "Enter value of b? 2\n",
      "['monday', 'tuesday']\n",
      "25\n"
     ]
    }
   ],
   "source": [
    "class x:\n",
    "    def first(self):\n",
    "        a=int(input('Enter value of a? '))\n",
    "        b=int(input('Enter value of b? '))\n",
    "        self.exp=a**b\n",
    "    \n",
    "class y(x):\n",
    "    def __init__(self):\n",
    "        super(). first()\n",
    "        v=['monday','tuesday']\n",
    "        print(v)\n",
    "        \n",
    "        \n",
    "        \n",
    "z=y()\n",
    "print(z.exp)\n",
    "\n"
   ]
  },
  {
   "cell_type": "markdown",
   "id": "345ba700",
   "metadata": {},
   "source": [
    "# MULTI LEVEL INHERITANCE"
   ]
  },
  {
   "cell_type": "code",
   "execution_count": 9,
   "id": "83c03690",
   "metadata": {},
   "outputs": [
    {
     "name": "stdout",
     "output_type": "stream",
     "text": [
      "we are good\n",
      "you are best\n",
      "we are amazing\n"
     ]
    }
   ],
   "source": [
    "class parent:\n",
    "    def x1(self):\n",
    "        print('we are good')\n",
    "        \n",
    "class child_1(parent):\n",
    "    def x2(self):\n",
    "        print('you are best')\n",
    "        \n",
    "class child_2(child_1):\n",
    "    def x3(self):\n",
    "        print('we are amazing')\n",
    "        \n",
    "ob=child_2()\n",
    "ob.x1()\n",
    "ob.x2()\n",
    "ob.x3()"
   ]
  },
  {
   "cell_type": "markdown",
   "id": "e1ab4fce",
   "metadata": {},
   "source": [
    "# MULTIPLE INHERITANCE"
   ]
  },
  {
   "cell_type": "code",
   "execution_count": 10,
   "id": "75635d33",
   "metadata": {},
   "outputs": [
    {
     "name": "stdout",
     "output_type": "stream",
     "text": [
      "we are good\n",
      "you are best\n",
      "we are amazing\n"
     ]
    }
   ],
   "source": [
    "class parent_1:\n",
    "    def x1(self):\n",
    "        print('we are good')\n",
    "        \n",
    "class parent_2:\n",
    "    def x2(self):\n",
    "        print('you are best')\n",
    "        \n",
    "class child(parent_1,parent_2):\n",
    "    def x3(self):\n",
    "        print('we are amazing')\n",
    "        \n",
    "ob=child()\n",
    "ob.x1()\n",
    "ob.x2()\n",
    "ob.x3()"
   ]
  },
  {
   "cell_type": "markdown",
   "id": "7027e50b",
   "metadata": {},
   "source": [
    "# ENCAPSULATION: \n",
    "\n",
    "It means in python describes the concept of bundling data and methods within a single unit. For example: when you create a class, it means you are implementing enscapsulation. A class is an example of encapsulation as it binds all the data members and methods into a single units."
   ]
  },
  {
   "cell_type": "code",
   "execution_count": 11,
   "id": "a21634f2",
   "metadata": {},
   "outputs": [
    {
     "name": "stdout",
     "output_type": "stream",
     "text": [
      "name:  mayur\n",
      "salary:  40000\n",
      "mayur is working on Deep learning\n"
     ]
    }
   ],
   "source": [
    "class Employee:\n",
    "    def __init__(self,name,salary,project):\n",
    "        self.name=name\n",
    "        self.salary=salary\n",
    "        self.project=project\n",
    "        \n",
    "    def show(self):\n",
    "        print('name: ',self.name)\n",
    "        print('salary: ',self.salary)\n",
    "        \n",
    "    def work(self):\n",
    "        print(self.name,'is working on',self.project)\n",
    "        \n",
    "emp=Employee('mayur',40000,'Deep learning')\n",
    "emp.show()\n",
    "emp.work()"
   ]
  },
  {
   "cell_type": "markdown",
   "id": "d974988e",
   "metadata": {},
   "source": [
    "# POLYMORPHISM: \n",
    "\n",
    "'Poly' means 'Many' and 'Morph' means 'Shape'. for ex: one task can be performed in different ways. for example: you have a class animal, and all animals speak. But they speak diffrently. Here 'Speak' behaviour is polymorphic in a sense and depends on the animal."
   ]
  },
  {
   "cell_type": "code",
   "execution_count": 12,
   "id": "c4f0650f",
   "metadata": {},
   "outputs": [
    {
     "name": "stdout",
     "output_type": "stream",
     "text": [
      "Parrot can fly\n",
      "Parrot can not swim\n",
      "penguin can not fly\n",
      "penguin can swim\n"
     ]
    }
   ],
   "source": [
    "class Parrot:\n",
    "    def fly(self):\n",
    "        print('Parrot can fly')\n",
    "    def swim(self):\n",
    "        print('Parrot can not swim')\n",
    "        \n",
    "class penguin:\n",
    "    def fly(self):\n",
    "        print('penguin can not fly')\n",
    "    def swim(self):\n",
    "        print('penguin can swim')\n",
    "\n",
    "def flying_beast(self):\n",
    "    self.fly()\n",
    "    self.swim()\n",
    "    \n",
    "bird= Parrot()\n",
    "peggy= penguin()\n",
    "\n",
    "flying_beast(bird)\n",
    "flying_beast(peggy)"
   ]
  },
  {
   "cell_type": "markdown",
   "id": "658eb022",
   "metadata": {},
   "source": [
    "OR"
   ]
  },
  {
   "cell_type": "code",
   "execution_count": 13,
   "id": "f3d740f4",
   "metadata": {},
   "outputs": [
    {
     "name": "stdout",
     "output_type": "stream",
     "text": [
      "New Delhi\n",
      "Hindi English\n",
      "Washington\n",
      "English\n"
     ]
    }
   ],
   "source": [
    "class India():\n",
    "    def Capital(self):\n",
    "        print('New Delhi')\n",
    "        \n",
    "    def language(self):\n",
    "        print('Hindi','English')\n",
    "        \n",
    "class USA():\n",
    "    def Capital(self):\n",
    "        print('Washington')\n",
    "        \n",
    "    def language(self):\n",
    "        print('English')\n",
    "        \n",
    "ind=India()\n",
    "usa=USA()\n",
    "for country in (ind,usa):\n",
    "    country.Capital()\n",
    "    country.language()"
   ]
  },
  {
   "cell_type": "markdown",
   "id": "f288002f",
   "metadata": {},
   "source": [
    "Create two classes with the help of polymorphism. In each class create two method in each class do exponential and div and in second class add and substraction ?"
   ]
  },
  {
   "cell_type": "code",
   "execution_count": 14,
   "id": "86bccf89",
   "metadata": {},
   "outputs": [
    {
     "name": "stdout",
     "output_type": "stream",
     "text": [
      "25\n",
      "5.0\n",
      "16\n",
      "7\n"
     ]
    }
   ],
   "source": [
    "class arithmatics:\n",
    "    def x(self,a,b):\n",
    "        self.a=a\n",
    "        self.b=b\n",
    "        self.exp=a**b\n",
    "        \n",
    "    def y(self,p,q):\n",
    "        self.p=p\n",
    "        self.q=q\n",
    "        self.div=p/q\n",
    "class arithmatics_2:\n",
    "    def x(self,v,j):\n",
    "        self.v=v\n",
    "        self.j=j\n",
    "        self.add=v+j\n",
    "       \n",
    "        \n",
    "    def y(self,m,n):\n",
    "        self.m=m\n",
    "        self.n=n\n",
    "        self.sub=m-n\n",
    "       \n",
    "        \n",
    "art=arithmatics()\n",
    "ar=arithmatics_2()\n",
    "\n",
    "for i in (art,ar):\n",
    "    i.x(5,2)\n",
    "    i.y(20,4)\n",
    "\n",
    "print(art.exp)\n",
    "print(art.div)\n",
    "print(ar.sub)\n",
    "print(ar.add)\n"
   ]
  }
 ],
 "metadata": {
  "kernelspec": {
   "display_name": "Python 3 (ipykernel)",
   "language": "python",
   "name": "python3"
  },
  "language_info": {
   "codemirror_mode": {
    "name": "ipython",
    "version": 3
   },
   "file_extension": ".py",
   "mimetype": "text/x-python",
   "name": "python",
   "nbconvert_exporter": "python",
   "pygments_lexer": "ipython3",
   "version": "3.10.2"
  }
 },
 "nbformat": 4,
 "nbformat_minor": 5
}
