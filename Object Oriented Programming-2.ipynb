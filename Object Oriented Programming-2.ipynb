{
 "cells": [
  {
   "cell_type": "markdown",
   "id": "ce7c6233",
   "metadata": {},
   "source": [
    "PASS STATEMENT: class definations cannot be empty, but if you for reason have a class definition with no content, put in the pass statement to avoid getting the error."
   ]
  },
  {
   "cell_type": "code",
   "execution_count": 1,
   "id": "e3f7a2b8",
   "metadata": {},
   "outputs": [],
   "source": [
    "class Person:\n",
    "    pass"
   ]
  },
  {
   "cell_type": "markdown",
   "id": "fceef9f5",
   "metadata": {},
   "source": [
    "Create a class and perform a function with the help of init method: multiplication, print \"Hello delhi\""
   ]
  },
  {
   "cell_type": "code",
   "execution_count": 7,
   "id": "e3f50b0a",
   "metadata": {},
   "outputs": [
    {
     "name": "stdout",
     "output_type": "stream",
     "text": [
      "The multiplication of a*b :  200\n",
      "Hello Delhi\n"
     ]
    }
   ],
   "source": [
    "class Arithmatics:\n",
    "    def __init__(self,a,b):\n",
    "        self.a=a\n",
    "        self.b=b\n",
    "        self.mul=a*b\n",
    "        \n",
    "    def y(self):\n",
    "        print(\"Hello Delhi\")\n",
    "        \n",
    "Arth=Arithmatics(10,20)\n",
    "print(\"The multiplication of a*b : \" , Arth.mul)\n",
    "Arth.y()"
   ]
  },
  {
   "cell_type": "markdown",
   "id": "dc563fdd",
   "metadata": {},
   "source": [
    "Create a class exponential, 'good morning' and modulus?"
   ]
  },
  {
   "cell_type": "code",
   "execution_count": 8,
   "id": "6776a058",
   "metadata": {},
   "outputs": [
    {
     "name": "stdout",
     "output_type": "stream",
     "text": [
      "64\n",
      "Good morning\n",
      "0\n"
     ]
    }
   ],
   "source": [
    "class x:\n",
    "    def __init__(self,a,b):\n",
    "        self.a=a\n",
    "        self.b=b\n",
    "        self.exp=a**b\n",
    "    def y(self):\n",
    "        print('Good morning')\n",
    "        \n",
    "    def z(self,p,q):\n",
    "        self.p=p\n",
    "        self.q=q\n",
    "        self.mod=p%q\n",
    "        \n",
    "v1=x(2,6)\n",
    "v1.z(100,5)\n",
    "\n",
    "print(v1.exp)\n",
    "v1.y()\n",
    "print(v1.mod)\n"
   ]
  },
  {
   "cell_type": "markdown",
   "id": "aa744430",
   "metadata": {},
   "source": [
    "Create a class and make three methods by taking user input: floor division, list print and add"
   ]
  },
  {
   "cell_type": "code",
   "execution_count": 9,
   "id": "76f99b41",
   "metadata": {},
   "outputs": [
    {
     "name": "stdout",
     "output_type": "stream",
     "text": [
      "3.0\n",
      "[1, 2, 3, 4, 5]\n",
      "30\n"
     ]
    }
   ],
   "source": [
    "class x:\n",
    "    def __init__(self,a,b):\n",
    "        self.a=a\n",
    "        self.b=b\n",
    "        self.div=a/b\n",
    "    def y(self):\n",
    "        v=[1,2,3,4,5]\n",
    "        print(v)\n",
    "    def z(self,p,q):\n",
    "        self.p=p\n",
    "        self.q=q\n",
    "        self.add=p+q\n",
    "v1=x(6,2)\n",
    "v1.z(10,20)\n",
    "print(v1.div)\n",
    "v1.y()\n",
    "print(v1.add)"
   ]
  }
 ],
 "metadata": {
  "kernelspec": {
   "display_name": "Python 3 (ipykernel)",
   "language": "python",
   "name": "python3"
  },
  "language_info": {
   "codemirror_mode": {
    "name": "ipython",
    "version": 3
   },
   "file_extension": ".py",
   "mimetype": "text/x-python",
   "name": "python",
   "nbconvert_exporter": "python",
   "pygments_lexer": "ipython3",
   "version": "3.10.2"
  }
 },
 "nbformat": 4,
 "nbformat_minor": 5
}
