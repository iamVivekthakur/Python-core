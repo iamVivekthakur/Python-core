{
 "cells": [
  {
   "cell_type": "markdown",
   "id": "31901e7f",
   "metadata": {},
   "source": [
    "# SOME BASIC CONCEPT OF PYTHON"
   ]
  },
  {
   "cell_type": "markdown",
   "id": "47ba7ecb",
   "metadata": {},
   "source": [
    "Python: Guido Van Rossum conceived Python in the late 1980s. It was released in 1991 at Centrum Wiskunde & Informatica (CWI) in the Netherlands as a successor to the ABC language. He named this language after a popular comedy show called 'Monty Python's Flying Circus' (and not after Python-the snake).\n",
    "\n",
    "WHAT IS CONSTRUCTOR IN PYTHON?\n",
    "\n",
    "The constructor is a method that is called when an object is created. This method is defined in the class and can be used to initialize basic variables. If you create four objects, the class constructor is called four times."
   ]
  },
  {
   "cell_type": "code",
   "execution_count": 1,
   "id": "3b30f4a7",
   "metadata": {},
   "outputs": [
    {
     "name": "stdout",
     "output_type": "stream",
     "text": [
      "['False', 'None', 'True', 'and', 'as', 'assert', 'async', 'await', 'break', 'class', 'continue', 'def', 'del', 'elif', 'else', 'except', 'finally', 'for', 'from', 'global', 'if', 'import', 'in', 'is', 'lambda', 'nonlocal', 'not', 'or', 'pass', 'raise', 'return', 'try', 'while', 'with', 'yield']\n"
     ]
    }
   ],
   "source": [
    "import keyword\n",
    "print(keyword.kwlist)"
   ]
  },
  {
   "cell_type": "code",
   "execution_count": 2,
   "id": "195871cd",
   "metadata": {},
   "outputs": [
    {
     "name": "stdout",
     "output_type": "stream",
     "text": [
      "90\n"
     ]
    }
   ],
   "source": [
    "a=9\n",
    "b=10\n",
    "c=a*b\n",
    "print(c)"
   ]
  },
  {
   "cell_type": "code",
   "execution_count": 3,
   "id": "3e098176",
   "metadata": {},
   "outputs": [
    {
     "name": "stdout",
     "output_type": "stream",
     "text": [
      "90\n"
     ]
    }
   ],
   "source": [
    "a=9\n",
    "b=10\n",
    "print(a*b)"
   ]
  },
  {
   "cell_type": "markdown",
   "id": "cfdc3410",
   "metadata": {},
   "source": [
    "String: Like many other popular programming languages, strings in Python are arrays of bytes representing unicode characters."
   ]
  },
  {
   "cell_type": "code",
   "execution_count": 4,
   "id": "5169b3f7",
   "metadata": {},
   "outputs": [
    {
     "name": "stdout",
     "output_type": "stream",
     "text": [
      "Honesty is the best policy\n"
     ]
    }
   ],
   "source": [
    "a=\"Honesty is the best policy\"\n",
    "print(a)"
   ]
  },
  {
   "cell_type": "markdown",
   "id": "0c089a2d",
   "metadata": {},
   "source": [
    "float: Float() is a method that returns a floating-point number for a provided number or string."
   ]
  },
  {
   "cell_type": "code",
   "execution_count": 10,
   "id": "8e50ffe6",
   "metadata": {},
   "outputs": [
    {
     "name": "stdout",
     "output_type": "stream",
     "text": [
      "<class 'float'>\n"
     ]
    }
   ],
   "source": [
    "x=20.6\n",
    "print(type(x))"
   ]
  },
  {
   "cell_type": "markdown",
   "id": "d44e5ff5",
   "metadata": {},
   "source": [
    "Tupple:\n",
    "Tuples are used to store multiple items in a single variable.\n",
    "\n",
    "Different types of tuples\n",
    "\n",
    "Empty tuple\n",
    "\n",
    "my_tuple = ()\n",
    "\n",
    "print(my_tuple)\n",
    "\n",
    "Tuple having integers\n",
    "\n",
    "my_tuple = (1, 2, 3)\n",
    "\n",
    "print(my_tuple)\n",
    "\n",
    "tuple with mixed datatypes\n",
    "\n",
    "my_tuple = (1, \"Hello\", 3.4)\n",
    "\n",
    "print(my_tuple)\n",
    "\n",
    "\n",
    "nested tuple\n",
    "\n",
    "my_tuple = (\"mouse\", [8, 4, 6], (1, 2, 3))\n",
    "\n",
    "print(my_tuple)"
   ]
  },
  {
   "cell_type": "code",
   "execution_count": 7,
   "id": "7ede115b",
   "metadata": {},
   "outputs": [
    {
     "name": "stdout",
     "output_type": "stream",
     "text": [
      "()\n"
     ]
    }
   ],
   "source": [
    "v=()\n",
    "print(v)"
   ]
  },
  {
   "cell_type": "code",
   "execution_count": 11,
   "id": "e3014b7d",
   "metadata": {},
   "outputs": [
    {
     "name": "stdout",
     "output_type": "stream",
     "text": [
      "(1, 2, 3)\n",
      "<class 'tuple'>\n"
     ]
    }
   ],
   "source": [
    "v=(1,2,3)\n",
    "print(v)\n",
    "print(type(v))"
   ]
  },
  {
   "cell_type": "code",
   "execution_count": 12,
   "id": "41297f42",
   "metadata": {},
   "outputs": [
    {
     "name": "stdout",
     "output_type": "stream",
     "text": [
      "('pyhton', (1, 2, 3), [20, 30, 40])\n"
     ]
    }
   ],
   "source": [
    "v=('pyhton',(1,2,3),[20,30,40])\n",
    "print(v)"
   ]
  },
  {
   "cell_type": "markdown",
   "id": "187d4542",
   "metadata": {},
   "source": [
    "Q). Calculate the sum of two number with the help of user input?"
   ]
  },
  {
   "cell_type": "code",
   "execution_count": 13,
   "id": "c70247a9",
   "metadata": {},
   "outputs": [
    {
     "name": "stdout",
     "output_type": "stream",
     "text": [
      "Enter the value of a ? 30\n",
      "Enter the vlaue of b ? 70\n",
      "Your answer is :  100\n"
     ]
    }
   ],
   "source": [
    "a=int(input(\"Enter the value of a ? \"))\n",
    "b=int(input('Enter the vlaue of b ? '))\n",
    "c=a+b\n",
    "print('Your answer is : ', c)"
   ]
  }
 ],
 "metadata": {
  "kernelspec": {
   "display_name": "Python 3 (ipykernel)",
   "language": "python",
   "name": "python3"
  },
  "language_info": {
   "codemirror_mode": {
    "name": "ipython",
    "version": 3
   },
   "file_extension": ".py",
   "mimetype": "text/x-python",
   "name": "python",
   "nbconvert_exporter": "python",
   "pygments_lexer": "ipython3",
   "version": "3.10.2"
  }
 },
 "nbformat": 4,
 "nbformat_minor": 5
}
