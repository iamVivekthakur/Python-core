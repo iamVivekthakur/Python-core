{
 "cells": [
  {
   "cell_type": "markdown",
   "id": "e7535252",
   "metadata": {},
   "source": [
    "# EXCEPTION HANDLING: When an error occurs, or exception as we call it, Python will normally stop and generate an error message. These exceptions can be handled using the try statement:\n",
    "The try block: It let you test a block of code for errors.\n",
    "\n",
    "The except block: It let you handle the error.\n",
    "\n",
    "The else block: It lets you execute code when there is no error.\n",
    "\n",
    "The finally block: It lets you execute code regardless of the result of the try- and except blocks."
   ]
  },
  {
   "cell_type": "markdown",
   "id": "36a05061",
   "metadata": {},
   "source": [
    "TRY BLOCK :"
   ]
  },
  {
   "cell_type": "code",
   "execution_count": 1,
   "id": "bda7f2c5",
   "metadata": {},
   "outputs": [
    {
     "name": "stdout",
     "output_type": "stream",
     "text": [
      "X should be defined\n"
     ]
    }
   ],
   "source": [
    "try:\n",
    "    print(x)\n",
    "except:\n",
    "    print('X should be defined')"
   ]
  },
  {
   "cell_type": "markdown",
   "id": "bdd1da9e",
   "metadata": {},
   "source": [
    "EXCEPT BLOCK :"
   ]
  },
  {
   "cell_type": "code",
   "execution_count": 2,
   "id": "cb3942c8",
   "metadata": {},
   "outputs": [
    {
     "name": "stdout",
     "output_type": "stream",
     "text": [
      "Put right integer\n",
      "Have a nice day\n"
     ]
    }
   ],
   "source": [
    "try:\n",
    "    x=3\n",
    "    y=0\n",
    "    z=x/y\n",
    "    print(z)\n",
    "except ZeroDivisionError:\n",
    "    print('Put right integer')\n",
    "    \n",
    "finally:\n",
    "    print('Have a nice day')"
   ]
  },
  {
   "cell_type": "code",
   "execution_count": 3,
   "id": "0f7b27ed",
   "metadata": {},
   "outputs": [
    {
     "name": "stdout",
     "output_type": "stream",
     "text": [
      "3.0\n"
     ]
    }
   ],
   "source": [
    "x=3\n",
    "y=1\n",
    "z=x/y\n",
    "print(z)"
   ]
  },
  {
   "cell_type": "code",
   "execution_count": 4,
   "id": "cd99111d",
   "metadata": {},
   "outputs": [
    {
     "name": "stdout",
     "output_type": "stream",
     "text": [
      "Put integer here\n",
      "Have a nice day\n"
     ]
    }
   ],
   "source": [
    "try:\n",
    "    x=3\n",
    "    y='hello'\n",
    "    z=x+y\n",
    "    print(z)\n",
    "    \n",
    "except TypeError:\n",
    "    print('Put integer here')\n",
    "    \n",
    "finally:\n",
    "    print('Have a nice day')"
   ]
  },
  {
   "cell_type": "markdown",
   "id": "e6504f73",
   "metadata": {},
   "source": [
    "ELSE BLOCK :"
   ]
  },
  {
   "cell_type": "code",
   "execution_count": 5,
   "id": "28037b96",
   "metadata": {},
   "outputs": [
    {
     "name": "stdout",
     "output_type": "stream",
     "text": [
      "Honesty\n",
      "Nothing is wrong\n"
     ]
    }
   ],
   "source": [
    "try:\n",
    "    print('Honesty')\n",
    "except:\n",
    "    print('every thing is good')\n",
    "else:\n",
    "    print('Nothing is wrong')"
   ]
  },
  {
   "cell_type": "markdown",
   "id": "41482a5e",
   "metadata": {},
   "source": [
    "FINALLY BLOCK :\n"
   ]
  },
  {
   "cell_type": "code",
   "execution_count": 6,
   "id": "961d940a",
   "metadata": {},
   "outputs": [
    {
     "name": "stdout",
     "output_type": "stream",
     "text": [
      "Honesty\n",
      "Good luck\n"
     ]
    }
   ],
   "source": [
    "try:\n",
    "    print('Honesty')\n",
    "except:\n",
    "    ('Nothing is wrong')\n",
    "    \n",
    "finally:\n",
    "    print('Good luck')"
   ]
  },
  {
   "cell_type": "markdown",
   "id": "14e776a7",
   "metadata": {},
   "source": [
    "Create a program in try block, Find voter is eligible or not for voting?"
   ]
  },
  {
   "cell_type": "code",
   "execution_count": 7,
   "id": "9e0155d5",
   "metadata": {},
   "outputs": [
    {
     "name": "stdout",
     "output_type": "stream",
     "text": [
      "Enter your age? 26\n",
      "you are eligible\n",
      "Congratulation\n"
     ]
    }
   ],
   "source": [
    "try:\n",
    "    age=int(input('Enter your age? '))\n",
    "    if age>=18:\n",
    "        print('you are eligible')\n",
    "    else:\n",
    "        print ('you are not elegible')\n",
    "        \n",
    "except:\n",
    "    print('Put only integeral value')\n",
    "    \n",
    "finally:\n",
    "    print(\"Congratulation\")"
   ]
  }
 ],
 "metadata": {
  "kernelspec": {
   "display_name": "Python 3 (ipykernel)",
   "language": "python",
   "name": "python3"
  },
  "language_info": {
   "codemirror_mode": {
    "name": "ipython",
    "version": 3
   },
   "file_extension": ".py",
   "mimetype": "text/x-python",
   "name": "python",
   "nbconvert_exporter": "python",
   "pygments_lexer": "ipython3",
   "version": "3.10.2"
  }
 },
 "nbformat": 4,
 "nbformat_minor": 5
}
