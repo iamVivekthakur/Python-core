{
 "cells": [
  {
   "cell_type": "markdown",
   "id": "0f075019",
   "metadata": {},
   "source": [
    "Create a program to calculate the area of the circle having radius 10cm?"
   ]
  },
  {
   "cell_type": "code",
   "execution_count": 1,
   "id": "2220b61a",
   "metadata": {},
   "outputs": [
    {
     "name": "stdout",
     "output_type": "stream",
     "text": [
      "The area is :  314.2857142857143\n"
     ]
    }
   ],
   "source": [
    "r=10\n",
    "pi=(22/7)\n",
    "\n",
    "area= pi*(r**2)\n",
    "print(\"The area is : \", area)"
   ]
  },
  {
   "cell_type": "markdown",
   "id": "a5238bd1",
   "metadata": {},
   "source": [
    " Power in Python: It is denoted by \"e\", where e is equal to 10."
   ]
  },
  {
   "cell_type": "code",
   "execution_count": 2,
   "id": "869082b8",
   "metadata": {},
   "outputs": [
    {
     "data": {
      "text/plain": [
       "30000000000.0"
      ]
     },
     "execution_count": 2,
     "metadata": {},
     "output_type": "execute_result"
    }
   ],
   "source": [
    "3e10"
   ]
  },
  {
   "cell_type": "markdown",
   "id": "af7aa037",
   "metadata": {},
   "source": [
    "Slicing in python: \n",
    "\n",
    "The slice() function returns a slice object. A slice object is used to specify how to slice a sequence."
   ]
  },
  {
   "cell_type": "code",
   "execution_count": 3,
   "id": "ce158514",
   "metadata": {},
   "outputs": [],
   "source": [
    "s=\"ABCDEFGHIJKLMNOPQRSTUVWXYZ\""
   ]
  },
  {
   "cell_type": "code",
   "execution_count": 4,
   "id": "43dadf0a",
   "metadata": {},
   "outputs": [
    {
     "data": {
      "text/plain": [
       "('ABCDEFGHIJKLMN', 'OPQRSTUVWXYZ')"
      ]
     },
     "execution_count": 4,
     "metadata": {},
     "output_type": "execute_result"
    }
   ],
   "source": [
    "s1=s[:14]\n",
    "s2=s[14:]\n",
    "\n",
    "s1,s2\n"
   ]
  },
  {
   "cell_type": "code",
   "execution_count": 5,
   "id": "ca8ade33",
   "metadata": {},
   "outputs": [
    {
     "data": {
      "text/plain": [
       "'ACEGIKMOQSUWY'"
      ]
     },
     "execution_count": 5,
     "metadata": {},
     "output_type": "execute_result"
    }
   ],
   "source": [
    "s1=s[::2]\n",
    "s1"
   ]
  },
  {
   "cell_type": "markdown",
   "id": "9bb705a5",
   "metadata": {},
   "source": [
    "UNPACKING CONCEPT :"
   ]
  },
  {
   "cell_type": "code",
   "execution_count": 6,
   "id": "120659b8",
   "metadata": {},
   "outputs": [],
   "source": [
    "A,B,C,*D=(12,13,14,15,16,17,18,19)"
   ]
  },
  {
   "cell_type": "code",
   "execution_count": 8,
   "id": "34e49115",
   "metadata": {},
   "outputs": [
    {
     "data": {
      "text/plain": [
       "12"
      ]
     },
     "execution_count": 8,
     "metadata": {},
     "output_type": "execute_result"
    }
   ],
   "source": [
    "A"
   ]
  },
  {
   "cell_type": "code",
   "execution_count": 10,
   "id": "2c913742",
   "metadata": {},
   "outputs": [
    {
     "data": {
      "text/plain": [
       "13"
      ]
     },
     "execution_count": 10,
     "metadata": {},
     "output_type": "execute_result"
    }
   ],
   "source": [
    "B"
   ]
  },
  {
   "cell_type": "code",
   "execution_count": 11,
   "id": "1a8fda95",
   "metadata": {},
   "outputs": [
    {
     "data": {
      "text/plain": [
       "14"
      ]
     },
     "execution_count": 11,
     "metadata": {},
     "output_type": "execute_result"
    }
   ],
   "source": [
    "C"
   ]
  },
  {
   "cell_type": "code",
   "execution_count": 12,
   "id": "0d2dc9a1",
   "metadata": {},
   "outputs": [
    {
     "data": {
      "text/plain": [
       "[15, 16, 17, 18, 19]"
      ]
     },
     "execution_count": 12,
     "metadata": {},
     "output_type": "execute_result"
    }
   ],
   "source": [
    "D"
   ]
  },
  {
   "cell_type": "markdown",
   "id": "2f18143a",
   "metadata": {},
   "source": [
    "# LIST"
   ]
  },
  {
   "cell_type": "code",
   "execution_count": 13,
   "id": "70528f4e",
   "metadata": {},
   "outputs": [
    {
     "name": "stdout",
     "output_type": "stream",
     "text": [
      "<class 'list'>\n"
     ]
    }
   ],
   "source": [
    "a=[]\n",
    "print(type(a))"
   ]
  },
  {
   "cell_type": "code",
   "execution_count": 14,
   "id": "67f4c5ba",
   "metadata": {},
   "outputs": [
    {
     "name": "stdout",
     "output_type": "stream",
     "text": [
      "[1, 2, 3, 4, 'python', [23, 24, 25, 26]]\n"
     ]
    }
   ],
   "source": [
    "a=[1,2,3,4,\"python\",[23,24,25,26]]\n",
    "print(a)"
   ]
  },
  {
   "cell_type": "code",
   "execution_count": 16,
   "id": "dec45f41",
   "metadata": {},
   "outputs": [
    {
     "data": {
      "text/plain": [
       "[99, 2, 3, 4, 'python', [23, 24, 25, 26]]"
      ]
     },
     "execution_count": 16,
     "metadata": {},
     "output_type": "execute_result"
    }
   ],
   "source": [
    "a[0]=99\n",
    "a"
   ]
  },
  {
   "cell_type": "code",
   "execution_count": 17,
   "id": "f31a3783",
   "metadata": {},
   "outputs": [
    {
     "data": {
      "text/plain": [
       "[99, 2, 3, 4, 'python', [32, 24, 25, 26]]"
      ]
     },
     "execution_count": 17,
     "metadata": {},
     "output_type": "execute_result"
    }
   ],
   "source": [
    "a[-1][0]=32\n",
    "a"
   ]
  },
  {
   "cell_type": "code",
   "execution_count": 18,
   "id": "f13bbee6",
   "metadata": {},
   "outputs": [
    {
     "data": {
      "text/plain": [
       "[99, 2, 3, 4, 'nohtyp', [32, 24, 25, 26]]"
      ]
     },
     "execution_count": 18,
     "metadata": {},
     "output_type": "execute_result"
    }
   ],
   "source": [
    "a[4]=a[4][::-1]\n",
    "a"
   ]
  }
 ],
 "metadata": {
  "kernelspec": {
   "display_name": "Python 3 (ipykernel)",
   "language": "python",
   "name": "python3"
  },
  "language_info": {
   "codemirror_mode": {
    "name": "ipython",
    "version": 3
   },
   "file_extension": ".py",
   "mimetype": "text/x-python",
   "name": "python",
   "nbconvert_exporter": "python",
   "pygments_lexer": "ipython3",
   "version": "3.10.2"
  }
 },
 "nbformat": 4,
 "nbformat_minor": 5
}
