{
 "cells": [
  {
   "cell_type": "markdown",
   "id": "62d67997",
   "metadata": {},
   "source": [
    "# NUMPY CONCEPT-1"
   ]
  },
  {
   "cell_type": "markdown",
   "id": "7dcdeed6",
   "metadata": {},
   "source": [
    "NUMPY:\n",
    "\n",
    "It stands for Numercal Python. Numpy is a python library used for working with arrays. It also has functions for working in domain of linear algebra, fourier transform, and matrix."
   ]
  },
  {
   "cell_type": "code",
   "execution_count": 1,
   "id": "c6a3e418",
   "metadata": {},
   "outputs": [
    {
     "ename": "TypeError",
     "evalue": "unsupported operand type(s) for /: 'list' and 'list'",
     "output_type": "error",
     "traceback": [
      "\u001b[1;31m---------------------------------------------------------------------------\u001b[0m",
      "\u001b[1;31mTypeError\u001b[0m                                 Traceback (most recent call last)",
      "Input \u001b[1;32mIn [1]\u001b[0m, in \u001b[0;36m<cell line: 3>\u001b[1;34m()\u001b[0m\n\u001b[0;32m      1\u001b[0m d\u001b[38;5;241m=\u001b[39m[\u001b[38;5;241m10\u001b[39m,\u001b[38;5;241m20\u001b[39m,\u001b[38;5;241m30\u001b[39m,\u001b[38;5;241m40\u001b[39m]\n\u001b[0;32m      2\u001b[0m t\u001b[38;5;241m=\u001b[39m[\u001b[38;5;241m2\u001b[39m,\u001b[38;5;241m3\u001b[39m,\u001b[38;5;241m4\u001b[39m,\u001b[38;5;241m5\u001b[39m]\n\u001b[1;32m----> 3\u001b[0m s\u001b[38;5;241m=\u001b[39m\u001b[43md\u001b[49m\u001b[38;5;241;43m/\u001b[39;49m\u001b[43mt\u001b[49m\n\u001b[0;32m      4\u001b[0m \u001b[38;5;28mprint\u001b[39m(s)\n",
      "\u001b[1;31mTypeError\u001b[0m: unsupported operand type(s) for /: 'list' and 'list'"
     ]
    }
   ],
   "source": [
    "d=[10,20,30,40]\n",
    "t=[2,3,4,5]\n",
    "s=d/t\n",
    "print(s) #For this reason we use numpy "
   ]
  },
  {
   "cell_type": "code",
   "execution_count": 2,
   "id": "d38f9a6a",
   "metadata": {},
   "outputs": [],
   "source": [
    "import numpy as np"
   ]
  },
  {
   "cell_type": "code",
   "execution_count": 3,
   "id": "c4f560f7",
   "metadata": {},
   "outputs": [
    {
     "name": "stdout",
     "output_type": "stream",
     "text": [
      "speed :  [5.         6.66666667 7.5        8.        ]\n"
     ]
    }
   ],
   "source": [
    "d= np.array([10,20,30,40])\n",
    "t=np.array([2,3,4,5])\n",
    "s=d/t\n",
    "print(\"speed : \", s)"
   ]
  },
  {
   "cell_type": "markdown",
   "id": "b5906057",
   "metadata": {},
   "source": [
    "ND araay:\n",
    "\n",
    "This means number of dimensions in the given array and is decided by number of list brackets in it."
   ]
  },
  {
   "cell_type": "code",
   "execution_count": 4,
   "id": "31e7c43f",
   "metadata": {},
   "outputs": [
    {
     "data": {
      "text/plain": [
       "array([[1, 2, 3],\n",
       "       [2, 3, 4],\n",
       "       [3, 4, 5]])"
      ]
     },
     "execution_count": 4,
     "metadata": {},
     "output_type": "execute_result"
    }
   ],
   "source": [
    "x= ([1,2,3],[2,3,4],[3,4,5])\n",
    "arr = np.array(x)\n",
    "arr"
   ]
  },
  {
   "cell_type": "code",
   "execution_count": 6,
   "id": "2289bc9a",
   "metadata": {},
   "outputs": [
    {
     "data": {
      "text/plain": [
       "3"
      ]
     },
     "execution_count": 6,
     "metadata": {},
     "output_type": "execute_result"
    }
   ],
   "source": [
    "#slicing in the array\n",
    "arr[2][0]"
   ]
  },
  {
   "cell_type": "code",
   "execution_count": 7,
   "id": "cc37ef4a",
   "metadata": {},
   "outputs": [
    {
     "data": {
      "text/plain": [
       "(3, 3)"
      ]
     },
     "execution_count": 7,
     "metadata": {},
     "output_type": "execute_result"
    }
   ],
   "source": [
    "# how to know the shape of any array\n",
    "\n",
    "arr.shape"
   ]
  },
  {
   "cell_type": "code",
   "execution_count": 8,
   "id": "41112543",
   "metadata": {},
   "outputs": [
    {
     "data": {
      "text/plain": [
       "9"
      ]
     },
     "execution_count": 8,
     "metadata": {},
     "output_type": "execute_result"
    }
   ],
   "source": [
    "# How to know the size of any array\n",
    "\n",
    "arr.size"
   ]
  },
  {
   "cell_type": "code",
   "execution_count": 9,
   "id": "8f91418b",
   "metadata": {},
   "outputs": [
    {
     "data": {
      "text/plain": [
       "dtype('int32')"
      ]
     },
     "execution_count": 9,
     "metadata": {},
     "output_type": "execute_result"
    }
   ],
   "source": [
    "# To know the dtype\n",
    "\n",
    "arr.dtype"
   ]
  },
  {
   "cell_type": "markdown",
   "id": "173180a2",
   "metadata": {},
   "source": [
    "What happens when two array is added?"
   ]
  },
  {
   "cell_type": "code",
   "execution_count": 11,
   "id": "338cf722",
   "metadata": {},
   "outputs": [
    {
     "data": {
      "text/plain": [
       "array([15, 17, 19, 21, 23])"
      ]
     },
     "execution_count": 11,
     "metadata": {},
     "output_type": "execute_result"
    }
   ],
   "source": [
    "a=np.array([10,11,12,13,14])\n",
    "b=np.array([5,6,7,8,9])\n",
    "add=a+b\n",
    "add"
   ]
  },
  {
   "cell_type": "markdown",
   "id": "fcff01f7",
   "metadata": {},
   "source": [
    "Multiplication the sum of two array with 2?"
   ]
  },
  {
   "cell_type": "code",
   "execution_count": 12,
   "id": "c5794c74",
   "metadata": {},
   "outputs": [
    {
     "data": {
      "text/plain": [
       "array([[14, 18, 22],\n",
       "       [18, 20, 26]])"
      ]
     },
     "execution_count": 12,
     "metadata": {},
     "output_type": "execute_result"
    }
   ],
   "source": [
    "a=np.array([[1,2,3],[4,2,4]])\n",
    "b=np.array([[6,7,8],[5,8,9]])\n",
    "(a+b)*2"
   ]
  }
 ],
 "metadata": {
  "kernelspec": {
   "display_name": "Python 3 (ipykernel)",
   "language": "python",
   "name": "python3"
  },
  "language_info": {
   "codemirror_mode": {
    "name": "ipython",
    "version": 3
   },
   "file_extension": ".py",
   "mimetype": "text/x-python",
   "name": "python",
   "nbconvert_exporter": "python",
   "pygments_lexer": "ipython3",
   "version": "3.10.2"
  }
 },
 "nbformat": 4,
 "nbformat_minor": 5
}
