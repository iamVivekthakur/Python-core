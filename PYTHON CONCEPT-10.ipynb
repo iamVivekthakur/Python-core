{
 "cells": [
  {
   "cell_type": "markdown",
   "id": "6f729586",
   "metadata": {},
   "source": [
    "GLOBAL, LOCAL, NON-LOCAL:\n",
    "\n",
    "GLOBAL:global keyword allows you to modify the variable outside of the current scope.\n",
    "\n",
    "LOCAL: In Python or any other programming languages, the definition of local variables remains the same, which is “A variable declared inside the function is called local function”\n",
    "\n",
    "NON-LOCAL: The nonlocal keyword is used to work with variables inside nested functions, where the variable should not belong to the inner function."
   ]
  },
  {
   "cell_type": "code",
   "execution_count": 1,
   "id": "030cfc63",
   "metadata": {},
   "outputs": [
    {
     "name": "stdout",
     "output_type": "stream",
     "text": [
      "inner function is running....  200\n",
      "outer function is running.....  200\n"
     ]
    }
   ],
   "source": [
    "def outer():\n",
    "    x=200\n",
    "    def inner():\n",
    "        print(\"inner function is running.... \", x)\n",
    "    inner()\n",
    "    print(\"outer function is running..... \", x)\n",
    "    \n",
    "    \n",
    "outer()"
   ]
  },
  {
   "cell_type": "code",
   "execution_count": 4,
   "id": "48177c8a",
   "metadata": {},
   "outputs": [
    {
     "name": "stdout",
     "output_type": "stream",
     "text": [
      "inner function is running....  258\n",
      "outer function is running.....  200\n"
     ]
    }
   ],
   "source": [
    "def outer():\n",
    "    x=200\n",
    "    def inner():\n",
    "        x=258\n",
    "        print(\"inner function is running.... \", x)\n",
    "    inner()\n",
    "    print(\"outer function is running..... \", x)\n",
    "    \n",
    "    \n",
    "outer()"
   ]
  },
  {
   "cell_type": "code",
   "execution_count": 6,
   "id": "11f981de",
   "metadata": {},
   "outputs": [
    {
     "name": "stdout",
     "output_type": "stream",
     "text": [
      "inner function is running....  258\n",
      "outer function is running.....  200\n"
     ]
    }
   ],
   "source": [
    "outer()"
   ]
  },
  {
   "cell_type": "markdown",
   "id": "b96a0c3c",
   "metadata": {},
   "source": [
    "RECURSION: A FUNCTION DEFINED AND CALL ITSELF."
   ]
  },
  {
   "cell_type": "code",
   "execution_count": 7,
   "id": "b223cddb",
   "metadata": {},
   "outputs": [],
   "source": [
    "def fun():\n",
    "    print(\" Recurrsive function is running\")"
   ]
  },
  {
   "cell_type": "code",
   "execution_count": 8,
   "id": "77507f57",
   "metadata": {},
   "outputs": [
    {
     "name": "stdout",
     "output_type": "stream",
     "text": [
      " Recurrsive function is running\n"
     ]
    }
   ],
   "source": [
    "fun()\n",
    "def fun():\n",
    "    print(\"Recusive funtion is running\")\n",
    "    fun()"
   ]
  },
  {
   "cell_type": "code",
   "execution_count": 9,
   "id": "fbf1fa02",
   "metadata": {},
   "outputs": [
    {
     "name": "stdout",
     "output_type": "stream",
     "text": [
      "120\n"
     ]
    }
   ],
   "source": [
    "def fact(x):\n",
    "    if x==1:\n",
    "        return 1\n",
    "    return x*fact(x-1)\n",
    "print(fact(5))"
   ]
  },
  {
   "cell_type": "code",
   "execution_count": 10,
   "id": "454b90ff",
   "metadata": {},
   "outputs": [
    {
     "name": "stdout",
     "output_type": "stream",
     "text": [
      "55\n"
     ]
    }
   ],
   "source": [
    "def fact(x):\n",
    "    if x==0:\n",
    "        return 0\n",
    "    return x+fact(x-1)\n",
    "print(fact(10))\n",
    "def square(x):\n",
    "    ls=[]"
   ]
  },
  {
   "cell_type": "markdown",
   "id": "a22d051b",
   "metadata": {},
   "source": [
    "LAMBDA:\n",
    "\n",
    "A lambda function is a small anonymous function. A lambda function can take any number of arguments, but can only have one expression."
   ]
  },
  {
   "cell_type": "code",
   "execution_count": 12,
   "id": "16f1a5c9",
   "metadata": {},
   "outputs": [],
   "source": [
    "add = lambda a,b: a+b"
   ]
  },
  {
   "cell_type": "code",
   "execution_count": 13,
   "id": "8afae7ed",
   "metadata": {},
   "outputs": [
    {
     "data": {
      "text/plain": [
       "168"
      ]
     },
     "execution_count": 13,
     "metadata": {},
     "output_type": "execute_result"
    }
   ],
   "source": [
    "add(78,90)"
   ]
  },
  {
   "cell_type": "code",
   "execution_count": 14,
   "id": "23f3ef2a",
   "metadata": {},
   "outputs": [],
   "source": [
    "even= lambda x: x%2==0"
   ]
  },
  {
   "cell_type": "code",
   "execution_count": 15,
   "id": "0350bee1",
   "metadata": {},
   "outputs": [
    {
     "data": {
      "text/plain": [
       "False"
      ]
     },
     "execution_count": 15,
     "metadata": {},
     "output_type": "execute_result"
    }
   ],
   "source": [
    "even(95)"
   ]
  },
  {
   "cell_type": "code",
   "execution_count": 16,
   "id": "649995d1",
   "metadata": {},
   "outputs": [
    {
     "data": {
      "text/plain": [
       "True"
      ]
     },
     "execution_count": 16,
     "metadata": {},
     "output_type": "execute_result"
    }
   ],
   "source": [
    "even(92)"
   ]
  }
 ],
 "metadata": {
  "kernelspec": {
   "display_name": "Python 3 (ipykernel)",
   "language": "python",
   "name": "python3"
  },
  "language_info": {
   "codemirror_mode": {
    "name": "ipython",
    "version": 3
   },
   "file_extension": ".py",
   "mimetype": "text/x-python",
   "name": "python",
   "nbconvert_exporter": "python",
   "pygments_lexer": "ipython3",
   "version": "3.10.2"
  }
 },
 "nbformat": 4,
 "nbformat_minor": 5
}
