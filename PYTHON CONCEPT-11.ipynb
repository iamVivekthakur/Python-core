{
 "cells": [
  {
   "cell_type": "markdown",
   "id": "bbf0dd65",
   "metadata": {},
   "source": [
    "COMPREHENSION:\n",
    "\n",
    "PythonServer Side ProgrammingProgramming. We can create new sequences using a given python sequence. This is called comprehension. It basically a way of writing a concise code block to generate a sequence which can be a list, dictionary, set or a generator by using another sequence."
   ]
  },
  {
   "cell_type": "code",
   "execution_count": 1,
   "id": "48e105a4",
   "metadata": {},
   "outputs": [
    {
     "data": {
      "text/plain": [
       "['1', '2', '3', '4', '5']"
      ]
     },
     "execution_count": 1,
     "metadata": {},
     "output_type": "execute_result"
    }
   ],
   "source": [
    "[v for v in '12345']"
   ]
  },
  {
   "cell_type": "code",
   "execution_count": 2,
   "id": "0ddf32ba",
   "metadata": {},
   "outputs": [
    {
     "data": {
      "text/plain": [
       "[4, 64]"
      ]
     },
     "execution_count": 2,
     "metadata": {},
     "output_type": "execute_result"
    }
   ],
   "source": [
    "[v**2 for v in [1,2,5,8] if v%2==0]"
   ]
  },
  {
   "cell_type": "code",
   "execution_count": 3,
   "id": "6982873d",
   "metadata": {},
   "outputs": [
    {
     "name": "stdout",
     "output_type": "stream",
     "text": [
      "vivek thakur aman jain tanaya sarkar\n"
     ]
    },
    {
     "data": {
      "text/plain": [
       "['vivek', 'thakur', 'aman', 'jain', 'tanaya', 'sarkar']"
      ]
     },
     "execution_count": 3,
     "metadata": {},
     "output_type": "execute_result"
    }
   ],
   "source": [
    "input().split()"
   ]
  },
  {
   "cell_type": "code",
   "execution_count": 4,
   "id": "e7f5c195",
   "metadata": {},
   "outputs": [
    {
     "name": "stdout",
     "output_type": "stream",
     "text": [
      "12 13 14 15 16 17 18 19 20\n"
     ]
    },
    {
     "data": {
      "text/plain": [
       "144"
      ]
     },
     "execution_count": 4,
     "metadata": {},
     "output_type": "execute_result"
    }
   ],
   "source": [
    "sum([int(v) for v in input().split()])"
   ]
  },
  {
   "cell_type": "code",
   "execution_count": 7,
   "id": "b33a9b90",
   "metadata": {},
   "outputs": [],
   "source": [
    "def decoratoe(function):\n",
    "    print('decoratoe is running', function.__name__)\n",
    "    def wrapper():\n",
    "        print('wrapper is running')\n",
    "        function()\n",
    "        return wrapper"
   ]
  },
  {
   "cell_type": "code",
   "execution_count": 11,
   "id": "8e9c7fc6",
   "metadata": {},
   "outputs": [],
   "source": [
    "def disp():\n",
    "    print('disp is running.....')"
   ]
  },
  {
   "cell_type": "code",
   "execution_count": 12,
   "id": "1c18acc9",
   "metadata": {},
   "outputs": [],
   "source": [
    "def binomial():\n",
    "    print('Hello stats binomial')"
   ]
  },
  {
   "cell_type": "code",
   "execution_count": 13,
   "id": "9ba0b264",
   "metadata": {},
   "outputs": [
    {
     "name": "stdout",
     "output_type": "stream",
     "text": [
      "decoratoe is running binomial\n"
     ]
    },
    {
     "ename": "TypeError",
     "evalue": "'NoneType' object is not callable",
     "output_type": "error",
     "traceback": [
      "\u001b[1;31m---------------------------------------------------------------------------\u001b[0m",
      "\u001b[1;31mTypeError\u001b[0m                                 Traceback (most recent call last)",
      "Input \u001b[1;32mIn [13]\u001b[0m, in \u001b[0;36m<cell line: 2>\u001b[1;34m()\u001b[0m\n\u001b[0;32m      1\u001b[0m fun\u001b[38;5;241m=\u001b[39m decoratoe(function\u001b[38;5;241m=\u001b[39mbinomial)\n\u001b[1;32m----> 2\u001b[0m \u001b[43mfun\u001b[49m\u001b[43m(\u001b[49m\u001b[43m)\u001b[49m\n",
      "\u001b[1;31mTypeError\u001b[0m: 'NoneType' object is not callable"
     ]
    }
   ],
   "source": [
    "fun= decoratoe(function=binomial)\n",
    "fun()"
   ]
  },
  {
   "cell_type": "code",
   "execution_count": 14,
   "id": "71ea58a1",
   "metadata": {},
   "outputs": [
    {
     "name": "stdout",
     "output_type": "stream",
     "text": [
      "decorator is running\n"
     ]
    }
   ],
   "source": [
    "def decorator(function):\n",
    "    print('decorator is running')\n",
    "    def wrapper(*a,**b):\n",
    "        s=time.time()\n",
    "        print('Wrapper is running....')\n",
    "        d=function(*a,**b)\n",
    "        print(d)\n",
    "        print('total time= ',time.time() - s)\n",
    "    return wrapper\n",
    "\n",
    "@decorator\n",
    "def sqrt(x):\n",
    "    ls=[]\n",
    "    for i in range(2,x+1):\n",
    "        ls.append(i**0.5)\n",
    "        time.sleep(0.4)\n",
    "    return ls"
   ]
  }
 ],
 "metadata": {
  "kernelspec": {
   "display_name": "Python 3 (ipykernel)",
   "language": "python",
   "name": "python3"
  },
  "language_info": {
   "codemirror_mode": {
    "name": "ipython",
    "version": 3
   },
   "file_extension": ".py",
   "mimetype": "text/x-python",
   "name": "python",
   "nbconvert_exporter": "python",
   "pygments_lexer": "ipython3",
   "version": "3.10.2"
  }
 },
 "nbformat": 4,
 "nbformat_minor": 5
}
