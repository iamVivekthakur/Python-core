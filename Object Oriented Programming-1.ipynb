{
 "cells": [
  {
   "cell_type": "markdown",
   "id": "b6ac7c17",
   "metadata": {},
   "source": [
    "# OOPS:OBJECT ORIENTED PROGRAMMING"
   ]
  },
  {
   "cell_type": "markdown",
   "id": "cb74e412",
   "metadata": {},
   "source": [
    "OOPS: OBJECT ORIENTED PROGRAMMING:\n",
    "\n",
    "There are some words use here class, objects, methods, attributes, inheritance, data abstraction, polymorphism and encapsulation."
   ]
  },
  {
   "cell_type": "code",
   "execution_count": 1,
   "id": "559e7996",
   "metadata": {},
   "outputs": [
    {
     "data": {
      "text/plain": [
       "5"
      ]
     },
     "execution_count": 1,
     "metadata": {},
     "output_type": "execute_result"
    }
   ],
   "source": [
    "class x:\n",
    "    i=5\n",
    "    \n",
    "ob=x()\n",
    "ob.i"
   ]
  },
  {
   "cell_type": "code",
   "execution_count": 2,
   "id": "c063d437",
   "metadata": {},
   "outputs": [
    {
     "name": "stdout",
     "output_type": "stream",
     "text": [
      "11\n"
     ]
    }
   ],
   "source": [
    "class add:\n",
    "    a=5\n",
    "    b=6\n",
    "    c=a+b\n",
    "    \n",
    "plus=add()\n",
    "print(plus.c)"
   ]
  },
  {
   "cell_type": "code",
   "execution_count": 5,
   "id": "002c46dc",
   "metadata": {},
   "outputs": [
    {
     "name": "stdout",
     "output_type": "stream",
     "text": [
      "Honesty is the best policy!!!\n"
     ]
    }
   ],
   "source": [
    "class fun:\n",
    "    def y(self):\n",
    "        print(\"Honesty is the best policy!!!\")\n",
    "        \n",
    "ob=fun()\n",
    "ob.y()"
   ]
  },
  {
   "cell_type": "markdown",
   "id": "e773058c",
   "metadata": {},
   "source": [
    "INIT FUNCTION :\n",
    "\n",
    "To understand the meaning of classes we have to understand the built- init() funtion. All classes have a function called init(), which is always executed when the class is being initiated. This function to assign values to object properties, or other operations that are necessary to do when the object is being created."
   ]
  },
  {
   "cell_type": "markdown",
   "id": "78b06186",
   "metadata": {},
   "source": [
    "self parameter:\n",
    "\n",
    "The self parameter is a reference to the current instance of the class and is used to access variables that belongs to the class. It does not have to be named self, you can call it whatever you like, but it has to be the first parameter of any function in the class."
   ]
  },
  {
   "cell_type": "code",
   "execution_count": 8,
   "id": "a018608c",
   "metadata": {},
   "outputs": [
    {
     "name": "stdout",
     "output_type": "stream",
     "text": [
      "My name is :  Vivek Thakur\n",
      "My age is :  29\n"
     ]
    }
   ],
   "source": [
    "class Person:\n",
    "    def __init__(self,name,age):\n",
    "        self.name=name\n",
    "        self.age=age\n",
    "        \n",
    "ID=Person(\"Vivek Thakur\",29)\n",
    "print(\"My name is : \",ID.name)\n",
    "print(\"My age is : \",ID.age)"
   ]
  },
  {
   "cell_type": "code",
   "execution_count": 9,
   "id": "ea237054",
   "metadata": {},
   "outputs": [
    {
     "name": "stdout",
     "output_type": "stream",
     "text": [
      "my name is - Vivek Thakur\n",
      "29\n"
     ]
    }
   ],
   "source": [
    "class Person:\n",
    "    def __init__(self, name, age):\n",
    "        self.name = name\n",
    "        self.age= age\n",
    "    def x(self):\n",
    "        print('my name is - '+self.name)\n",
    "        \n",
    "        \n",
    "        \n",
    "p1= Person('Vivek Thakur',29)\n",
    "p1.x()\n",
    "print(p1.age)\n",
    "\n"
   ]
  },
  {
   "cell_type": "code",
   "execution_count": 10,
   "id": "0f0cccbb",
   "metadata": {},
   "outputs": [
    {
     "name": "stdout",
     "output_type": "stream",
     "text": [
      "my name is Vivek\n",
      "29\n"
     ]
    }
   ],
   "source": [
    "class Person:\n",
    "    def __init__(self, name, age):\n",
    "        self.name = name\n",
    "        self.age= age\n",
    "    def x(vivek):\n",
    "        print('my name is '+vivek.name)\n",
    "        \n",
    "        \n",
    "        \n",
    "p1= Person('Vivek',29)\n",
    "p1.x()\n",
    "print(p1.age)"
   ]
  }
 ],
 "metadata": {
  "kernelspec": {
   "display_name": "Python 3 (ipykernel)",
   "language": "python",
   "name": "python3"
  },
  "language_info": {
   "codemirror_mode": {
    "name": "ipython",
    "version": 3
   },
   "file_extension": ".py",
   "mimetype": "text/x-python",
   "name": "python",
   "nbconvert_exporter": "python",
   "pygments_lexer": "ipython3",
   "version": "3.10.2"
  }
 },
 "nbformat": 4,
 "nbformat_minor": 5
}
