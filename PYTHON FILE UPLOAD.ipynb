{
 "cells": [
  {
   "cell_type": "markdown",
   "id": "9e459c81",
   "metadata": {},
   "source": [
    "# STRING ASSIGNMENT"
   ]
  },
  {
   "cell_type": "markdown",
   "id": "1a6b1d62",
   "metadata": {},
   "source": [
    "Q1) str1 = \"James\" output:Jms"
   ]
  },
  {
   "cell_type": "code",
   "execution_count": 1,
   "id": "d3890877",
   "metadata": {},
   "outputs": [
    {
     "data": {
      "text/plain": [
       "'Jms'"
      ]
     },
     "execution_count": 1,
     "metadata": {},
     "output_type": "execute_result"
    }
   ],
   "source": [
    "s=\"James\"\n",
    "s[0:5:2]\n"
   ]
  },
  {
   "cell_type": "markdown",
   "id": "facfc8ca",
   "metadata": {},
   "source": [
    "Q2) str1 = \"JhonDipPeta\" , out:Dip: str2 = \"JaSonAy\" , out:Son"
   ]
  },
  {
   "cell_type": "code",
   "execution_count": 2,
   "id": "e7dcc343",
   "metadata": {},
   "outputs": [
    {
     "data": {
      "text/plain": [
       "'Dip'"
      ]
     },
     "execution_count": 2,
     "metadata": {},
     "output_type": "execute_result"
    }
   ],
   "source": [
    "s = \"JhonDipPeta\"\n",
    "s[4]+s[5]+s[6]"
   ]
  },
  {
   "cell_type": "markdown",
   "id": "220525d1",
   "metadata": {},
   "source": [
    "OR"
   ]
  },
  {
   "cell_type": "code",
   "execution_count": 3,
   "id": "b8d9834f",
   "metadata": {},
   "outputs": [
    {
     "data": {
      "text/plain": [
       "'Son'"
      ]
     },
     "execution_count": 3,
     "metadata": {},
     "output_type": "execute_result"
    }
   ],
   "source": [
    "s = \"JaSonAy\"\n",
    "s[2:5]"
   ]
  },
  {
   "cell_type": "markdown",
   "id": "ba6a4b89",
   "metadata": {},
   "source": [
    "Q3) Append new string in the middle of a given string?"
   ]
  },
  {
   "cell_type": "code",
   "execution_count": 4,
   "id": "32afacad",
   "metadata": {},
   "outputs": [],
   "source": [
    "s=\"1,2,3,4,6,7,8\""
   ]
  },
  {
   "cell_type": "code",
   "execution_count": 5,
   "id": "8dd87324",
   "metadata": {},
   "outputs": [
    {
     "data": {
      "text/plain": [
       "',3,4,6,7,8,1,2'"
      ]
     },
     "execution_count": 5,
     "metadata": {},
     "output_type": "execute_result"
    }
   ],
   "source": [
    "s[3:]+s[5]+s[:3]"
   ]
  },
  {
   "cell_type": "markdown",
   "id": "667b74b8",
   "metadata": {},
   "source": [
    "Q4) Create a new string made of the first, middle, and last characters of each input string given: s1 = \"America\" s2 = \"Japan\" out:AJrpan"
   ]
  },
  {
   "cell_type": "code",
   "execution_count": 6,
   "id": "b7470a23",
   "metadata": {},
   "outputs": [
    {
     "data": {
      "text/plain": [
       "'AJrpan'"
      ]
     },
     "execution_count": 6,
     "metadata": {},
     "output_type": "execute_result"
    }
   ],
   "source": [
    "s1= \"America\"\n",
    "s2= \"Japan\"\n",
    "\n",
    "s1[0]+s2[0]+s1[3]+s2[2:]"
   ]
  },
  {
   "cell_type": "markdown",
   "id": "15e31c10",
   "metadata": {},
   "source": [
    "Exercise 5: Create a mixed String using the following rules\n",
    "\n",
    "\"Given two strings, s1 and s2. Write a program to create a new string s3 made of the first char of s1, then the last char of s2, Next, the second char of s1 and second last char of s2, and so on. Any leftover chars go at the end of the result.\"\n",
    "\n",
    "given: s1 = \"Abc\" s2 = \"Xyz\" output: AzbycX"
   ]
  },
  {
   "cell_type": "code",
   "execution_count": 7,
   "id": "879f1f5e",
   "metadata": {},
   "outputs": [
    {
     "data": {
      "text/plain": [
       "'AzbycX'"
      ]
     },
     "execution_count": 7,
     "metadata": {},
     "output_type": "execute_result"
    }
   ],
   "source": [
    "s1=\"Abc\"\n",
    "s2=\"Xyz\"\n",
    "s1[0]+s2[-1]+s1[1]+s2[-2]+s1[2]+s2[-3]"
   ]
  }
 ],
 "metadata": {
  "kernelspec": {
   "display_name": "Python 3 (ipykernel)",
   "language": "python",
   "name": "python3"
  },
  "language_info": {
   "codemirror_mode": {
    "name": "ipython",
    "version": 3
   },
   "file_extension": ".py",
   "mimetype": "text/x-python",
   "name": "python",
   "nbconvert_exporter": "python",
   "pygments_lexer": "ipython3",
   "version": "3.10.2"
  }
 },
 "nbformat": 4,
 "nbformat_minor": 5
}
